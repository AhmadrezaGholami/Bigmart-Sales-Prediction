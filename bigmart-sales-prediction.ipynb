{
 "cells": [
  {
   "cell_type": "markdown",
   "id": "f3afad54",
   "metadata": {
    "papermill": {
     "duration": 0.007576,
     "end_time": "2024-02-02T08:52:21.522674",
     "exception": false,
     "start_time": "2024-02-02T08:52:21.515098",
     "status": "completed"
    },
    "tags": []
   },
   "source": [
    "# Import Libaries"
   ]
  },
  {
   "cell_type": "code",
   "execution_count": 30,
   "id": "357fcb38",
   "metadata": {
    "execution": {
     "iopub.execute_input": "2024-02-02T08:52:36.958865Z",
     "iopub.status.busy": "2024-02-02T08:52:36.958533Z",
     "iopub.status.idle": "2024-02-02T08:52:41.612177Z",
     "shell.execute_reply": "2024-02-02T08:52:41.611283Z"
    },
    "papermill": {
     "duration": 4.665036,
     "end_time": "2024-02-02T08:52:41.614388",
     "exception": false,
     "start_time": "2024-02-02T08:52:36.949352",
     "status": "completed"
    },
    "tags": []
   },
   "outputs": [],
   "source": [
    "import pandas as pd\n",
    "from ydata_profiling import ProfileReport\n",
    "import seaborn as sns\n",
    "import matplotlib.pyplot as plt\n",
    "%matplotlib inline\n",
    "from sklearn.preprocessing import StandardScaler\n",
    "import numpy as np\n",
    "from sklearn.model_selection import train_test_split\n",
    "from sklearn.linear_model import LinearRegression,Ridge,Lasso,SGDRegressor\n",
    "from sklearn import metrics\n",
    "from sklearn.model_selection import KFold\n",
    "from sklearn.model_selection import cross_val_score"
   ]
  },
  {
   "cell_type": "markdown",
   "id": "e872c5d7",
   "metadata": {
    "papermill": {
     "duration": 0.00877,
     "end_time": "2024-02-02T08:52:41.633683",
     "exception": false,
     "start_time": "2024-02-02T08:52:41.624913",
     "status": "completed"
    },
    "tags": []
   },
   "source": [
    "# EDA (Small)"
   ]
  },
  {
   "cell_type": "code",
   "execution_count": 31,
   "id": "a614576e",
   "metadata": {
    "execution": {
     "iopub.execute_input": "2024-02-02T08:52:41.652422Z",
     "iopub.status.busy": "2024-02-02T08:52:41.651841Z",
     "iopub.status.idle": "2024-02-02T08:52:41.724822Z",
     "shell.execute_reply": "2024-02-02T08:52:41.723882Z"
    },
    "papermill": {
     "duration": 0.084885,
     "end_time": "2024-02-02T08:52:41.727095",
     "exception": false,
     "start_time": "2024-02-02T08:52:41.642210",
     "status": "completed"
    },
    "tags": []
   },
   "outputs": [
    {
     "data": {
      "text/html": [
       "<div>\n",
       "<style scoped>\n",
       "    .dataframe tbody tr th:only-of-type {\n",
       "        vertical-align: middle;\n",
       "    }\n",
       "\n",
       "    .dataframe tbody tr th {\n",
       "        vertical-align: top;\n",
       "    }\n",
       "\n",
       "    .dataframe thead th {\n",
       "        text-align: right;\n",
       "    }\n",
       "</style>\n",
       "<table border=\"1\" class=\"dataframe\">\n",
       "  <thead>\n",
       "    <tr style=\"text-align: right;\">\n",
       "      <th></th>\n",
       "      <th>Item_Identifier</th>\n",
       "      <th>Item_Weight</th>\n",
       "      <th>Item_Fat_Content</th>\n",
       "      <th>Item_Visibility</th>\n",
       "      <th>Item_Type</th>\n",
       "      <th>Item_MRP</th>\n",
       "      <th>Outlet_Identifier</th>\n",
       "      <th>Outlet_Establishment_Year</th>\n",
       "      <th>Outlet_Size</th>\n",
       "      <th>Outlet_Location_Type</th>\n",
       "      <th>Outlet_Type</th>\n",
       "      <th>Item_Outlet_Sales</th>\n",
       "    </tr>\n",
       "  </thead>\n",
       "  <tbody>\n",
       "    <tr>\n",
       "      <th>0</th>\n",
       "      <td>FDA15</td>\n",
       "      <td>9.300</td>\n",
       "      <td>Low Fat</td>\n",
       "      <td>0.016047</td>\n",
       "      <td>Dairy</td>\n",
       "      <td>249.8092</td>\n",
       "      <td>OUT049</td>\n",
       "      <td>1999</td>\n",
       "      <td>Medium</td>\n",
       "      <td>Tier 1</td>\n",
       "      <td>Supermarket Type1</td>\n",
       "      <td>3735.1380</td>\n",
       "    </tr>\n",
       "    <tr>\n",
       "      <th>1</th>\n",
       "      <td>DRC01</td>\n",
       "      <td>5.920</td>\n",
       "      <td>Regular</td>\n",
       "      <td>0.019278</td>\n",
       "      <td>Soft Drinks</td>\n",
       "      <td>48.2692</td>\n",
       "      <td>OUT018</td>\n",
       "      <td>2009</td>\n",
       "      <td>Medium</td>\n",
       "      <td>Tier 3</td>\n",
       "      <td>Supermarket Type2</td>\n",
       "      <td>443.4228</td>\n",
       "    </tr>\n",
       "    <tr>\n",
       "      <th>2</th>\n",
       "      <td>FDN15</td>\n",
       "      <td>17.500</td>\n",
       "      <td>Low Fat</td>\n",
       "      <td>0.016760</td>\n",
       "      <td>Meat</td>\n",
       "      <td>141.6180</td>\n",
       "      <td>OUT049</td>\n",
       "      <td>1999</td>\n",
       "      <td>Medium</td>\n",
       "      <td>Tier 1</td>\n",
       "      <td>Supermarket Type1</td>\n",
       "      <td>2097.2700</td>\n",
       "    </tr>\n",
       "    <tr>\n",
       "      <th>3</th>\n",
       "      <td>FDX07</td>\n",
       "      <td>19.200</td>\n",
       "      <td>Regular</td>\n",
       "      <td>0.000000</td>\n",
       "      <td>Fruits and Vegetables</td>\n",
       "      <td>182.0950</td>\n",
       "      <td>OUT010</td>\n",
       "      <td>1998</td>\n",
       "      <td>NaN</td>\n",
       "      <td>Tier 3</td>\n",
       "      <td>Grocery Store</td>\n",
       "      <td>732.3800</td>\n",
       "    </tr>\n",
       "    <tr>\n",
       "      <th>4</th>\n",
       "      <td>NCD19</td>\n",
       "      <td>8.930</td>\n",
       "      <td>Low Fat</td>\n",
       "      <td>0.000000</td>\n",
       "      <td>Household</td>\n",
       "      <td>53.8614</td>\n",
       "      <td>OUT013</td>\n",
       "      <td>1987</td>\n",
       "      <td>High</td>\n",
       "      <td>Tier 3</td>\n",
       "      <td>Supermarket Type1</td>\n",
       "      <td>994.7052</td>\n",
       "    </tr>\n",
       "    <tr>\n",
       "      <th>...</th>\n",
       "      <td>...</td>\n",
       "      <td>...</td>\n",
       "      <td>...</td>\n",
       "      <td>...</td>\n",
       "      <td>...</td>\n",
       "      <td>...</td>\n",
       "      <td>...</td>\n",
       "      <td>...</td>\n",
       "      <td>...</td>\n",
       "      <td>...</td>\n",
       "      <td>...</td>\n",
       "      <td>...</td>\n",
       "    </tr>\n",
       "    <tr>\n",
       "      <th>8518</th>\n",
       "      <td>FDF22</td>\n",
       "      <td>6.865</td>\n",
       "      <td>Low Fat</td>\n",
       "      <td>0.056783</td>\n",
       "      <td>Snack Foods</td>\n",
       "      <td>214.5218</td>\n",
       "      <td>OUT013</td>\n",
       "      <td>1987</td>\n",
       "      <td>High</td>\n",
       "      <td>Tier 3</td>\n",
       "      <td>Supermarket Type1</td>\n",
       "      <td>2778.3834</td>\n",
       "    </tr>\n",
       "    <tr>\n",
       "      <th>8519</th>\n",
       "      <td>FDS36</td>\n",
       "      <td>8.380</td>\n",
       "      <td>Regular</td>\n",
       "      <td>0.046982</td>\n",
       "      <td>Baking Goods</td>\n",
       "      <td>108.1570</td>\n",
       "      <td>OUT045</td>\n",
       "      <td>2002</td>\n",
       "      <td>NaN</td>\n",
       "      <td>Tier 2</td>\n",
       "      <td>Supermarket Type1</td>\n",
       "      <td>549.2850</td>\n",
       "    </tr>\n",
       "    <tr>\n",
       "      <th>8520</th>\n",
       "      <td>NCJ29</td>\n",
       "      <td>10.600</td>\n",
       "      <td>Low Fat</td>\n",
       "      <td>0.035186</td>\n",
       "      <td>Health and Hygiene</td>\n",
       "      <td>85.1224</td>\n",
       "      <td>OUT035</td>\n",
       "      <td>2004</td>\n",
       "      <td>Small</td>\n",
       "      <td>Tier 2</td>\n",
       "      <td>Supermarket Type1</td>\n",
       "      <td>1193.1136</td>\n",
       "    </tr>\n",
       "    <tr>\n",
       "      <th>8521</th>\n",
       "      <td>FDN46</td>\n",
       "      <td>7.210</td>\n",
       "      <td>Regular</td>\n",
       "      <td>0.145221</td>\n",
       "      <td>Snack Foods</td>\n",
       "      <td>103.1332</td>\n",
       "      <td>OUT018</td>\n",
       "      <td>2009</td>\n",
       "      <td>Medium</td>\n",
       "      <td>Tier 3</td>\n",
       "      <td>Supermarket Type2</td>\n",
       "      <td>1845.5976</td>\n",
       "    </tr>\n",
       "    <tr>\n",
       "      <th>8522</th>\n",
       "      <td>DRG01</td>\n",
       "      <td>14.800</td>\n",
       "      <td>Low Fat</td>\n",
       "      <td>0.044878</td>\n",
       "      <td>Soft Drinks</td>\n",
       "      <td>75.4670</td>\n",
       "      <td>OUT046</td>\n",
       "      <td>1997</td>\n",
       "      <td>Small</td>\n",
       "      <td>Tier 1</td>\n",
       "      <td>Supermarket Type1</td>\n",
       "      <td>765.6700</td>\n",
       "    </tr>\n",
       "  </tbody>\n",
       "</table>\n",
       "<p>8523 rows × 12 columns</p>\n",
       "</div>"
      ],
      "text/plain": [
       "     Item_Identifier  Item_Weight Item_Fat_Content  Item_Visibility  \\\n",
       "0              FDA15        9.300          Low Fat         0.016047   \n",
       "1              DRC01        5.920          Regular         0.019278   \n",
       "2              FDN15       17.500          Low Fat         0.016760   \n",
       "3              FDX07       19.200          Regular         0.000000   \n",
       "4              NCD19        8.930          Low Fat         0.000000   \n",
       "...              ...          ...              ...              ...   \n",
       "8518           FDF22        6.865          Low Fat         0.056783   \n",
       "8519           FDS36        8.380          Regular         0.046982   \n",
       "8520           NCJ29       10.600          Low Fat         0.035186   \n",
       "8521           FDN46        7.210          Regular         0.145221   \n",
       "8522           DRG01       14.800          Low Fat         0.044878   \n",
       "\n",
       "                  Item_Type  Item_MRP Outlet_Identifier  \\\n",
       "0                     Dairy  249.8092            OUT049   \n",
       "1               Soft Drinks   48.2692            OUT018   \n",
       "2                      Meat  141.6180            OUT049   \n",
       "3     Fruits and Vegetables  182.0950            OUT010   \n",
       "4                 Household   53.8614            OUT013   \n",
       "...                     ...       ...               ...   \n",
       "8518            Snack Foods  214.5218            OUT013   \n",
       "8519           Baking Goods  108.1570            OUT045   \n",
       "8520     Health and Hygiene   85.1224            OUT035   \n",
       "8521            Snack Foods  103.1332            OUT018   \n",
       "8522            Soft Drinks   75.4670            OUT046   \n",
       "\n",
       "      Outlet_Establishment_Year Outlet_Size Outlet_Location_Type  \\\n",
       "0                          1999      Medium               Tier 1   \n",
       "1                          2009      Medium               Tier 3   \n",
       "2                          1999      Medium               Tier 1   \n",
       "3                          1998         NaN               Tier 3   \n",
       "4                          1987        High               Tier 3   \n",
       "...                         ...         ...                  ...   \n",
       "8518                       1987        High               Tier 3   \n",
       "8519                       2002         NaN               Tier 2   \n",
       "8520                       2004       Small               Tier 2   \n",
       "8521                       2009      Medium               Tier 3   \n",
       "8522                       1997       Small               Tier 1   \n",
       "\n",
       "            Outlet_Type  Item_Outlet_Sales  \n",
       "0     Supermarket Type1          3735.1380  \n",
       "1     Supermarket Type2           443.4228  \n",
       "2     Supermarket Type1          2097.2700  \n",
       "3         Grocery Store           732.3800  \n",
       "4     Supermarket Type1           994.7052  \n",
       "...                 ...                ...  \n",
       "8518  Supermarket Type1          2778.3834  \n",
       "8519  Supermarket Type1           549.2850  \n",
       "8520  Supermarket Type1          1193.1136  \n",
       "8521  Supermarket Type2          1845.5976  \n",
       "8522  Supermarket Type1           765.6700  \n",
       "\n",
       "[8523 rows x 12 columns]"
      ]
     },
     "execution_count": 31,
     "metadata": {},
     "output_type": "execute_result"
    }
   ],
   "source": [
    "data=pd.read_csv(\"Big Mart Sale Data.csv\")\n",
    "df=pd.DataFrame(data)\n",
    "df"
   ]
  },
  {
   "cell_type": "markdown",
   "id": "809d8747",
   "metadata": {
    "papermill": {
     "duration": 0.008946,
     "end_time": "2024-02-02T08:52:41.745051",
     "exception": false,
     "start_time": "2024-02-02T08:52:41.736105",
     "status": "completed"
    },
    "tags": []
   },
   "source": [
    "<ul>\n",
    "    <li><b>Item_Identifier:</b> <span>Unique product ID</span></li>\n",
    "    <li><b>Item_Weight:</b> <span>Weight of product</span></li>\n",
    "    <li><b>Item_Fat_Content:</b> <span>Whether the product is low fat or not</span></li>\n",
    "    <li><b>Item_Visibility :</b> <span>The % of total display area of all products in a store allocated to the particular product</span></li>\n",
    "    <li><b>Item_Type:</b> <span>The category to which the product belongs</span></li>\n",
    "    <li><b>Item_MRP:</b> <span>Maximum Retail Price (list price) of the product</span></li>\n",
    "    <li><b>Outlet_Identifier:</b> <span>Unique store ID</span></li>\n",
    "    <li><b>Outlet_Establishment_Year:</b> <span>The year in which store was established</span></li>\n",
    "    <li><b>Outlet_Size:</b> <span>The size of the store in terms of ground area covered</span></li>\n",
    "    <li><b>Outlet_Location_Type:</b> <span>The type of city in which the store is located</span></li>\n",
    "    <li><b>Outlet_Type:</b> <span>Whether the outlet is just a grocery store or some sort of supermarket</span></li>\n",
    "    <li><b>Item_Outlet_Sales:</b> <span>Sales of the product in the particular store. This is the outcome variable to be predicted.(Target)</span></li>\n",
    "</ul>"
   ]
  },
  {
   "cell_type": "code",
   "execution_count": 32,
   "id": "ac44a2f8",
   "metadata": {
    "execution": {
     "iopub.execute_input": "2024-02-02T08:52:41.764630Z",
     "iopub.status.busy": "2024-02-02T08:52:41.763999Z",
     "iopub.status.idle": "2024-02-02T08:52:59.726747Z",
     "shell.execute_reply": "2024-02-02T08:52:59.725368Z"
    },
    "papermill": {
     "duration": 17.996099,
     "end_time": "2024-02-02T08:52:59.750369",
     "exception": false,
     "start_time": "2024-02-02T08:52:41.754270",
     "status": "completed"
    },
    "tags": []
   },
   "outputs": [
    {
     "data": {
      "application/vnd.jupyter.widget-view+json": {
       "model_id": "f16303101c8c45ada4d9f96bc668f23d",
       "version_major": 2,
       "version_minor": 0
      },
      "text/plain": [
       "Summarize dataset:   0%|          | 0/5 [00:00<?, ?it/s]"
      ]
     },
     "metadata": {},
     "output_type": "display_data"
    },
    {
     "data": {
      "application/vnd.jupyter.widget-view+json": {
       "model_id": "0c7b1d8353124ff883ee3b48a4f7971a",
       "version_major": 2,
       "version_minor": 0
      },
      "text/plain": [
       "Generate report structure:   0%|          | 0/1 [00:00<?, ?it/s]"
      ]
     },
     "metadata": {},
     "output_type": "display_data"
    },
    {
     "data": {
      "application/vnd.jupyter.widget-view+json": {
       "model_id": "bc2126579a834ebda18c6a6b6fdc8e12",
       "version_major": 2,
       "version_minor": 0
      },
      "text/plain": [
       "Render HTML:   0%|          | 0/1 [00:00<?, ?it/s]"
      ]
     },
     "metadata": {},
     "output_type": "display_data"
    },
    {
     "data": {
      "application/vnd.jupyter.widget-view+json": {
       "model_id": "8448443363ea419db87ec5843a03d9eb",
       "version_major": 2,
       "version_minor": 0
      },
      "text/plain": [
       "Export report to file:   0%|          | 0/1 [00:00<?, ?it/s]"
      ]
     },
     "metadata": {},
     "output_type": "display_data"
    }
   ],
   "source": [
    "profile = ProfileReport(df, title=\"Data Profile Report\",  minimal=False) \n",
    "profile.to_file('./Data Profile Report (EDA).html') # this will generate html file for EDA"
   ]
  },
  {
   "cell_type": "markdown",
   "id": "148adcd5",
   "metadata": {
    "papermill": {
     "duration": 0.044709,
     "end_time": "2024-02-02T08:52:59.841245",
     "exception": false,
     "start_time": "2024-02-02T08:52:59.796536",
     "status": "completed"
    },
    "tags": []
   },
   "source": [
    "# Pre-Processing"
   ]
  },
  {
   "cell_type": "code",
   "execution_count": 33,
   "id": "a06bc20a",
   "metadata": {
    "execution": {
     "iopub.execute_input": "2024-02-02T08:52:59.930624Z",
     "iopub.status.busy": "2024-02-02T08:52:59.930046Z",
     "iopub.status.idle": "2024-02-02T08:52:59.969129Z",
     "shell.execute_reply": "2024-02-02T08:52:59.968191Z"
    },
    "papermill": {
     "duration": 0.086203,
     "end_time": "2024-02-02T08:52:59.970802",
     "exception": false,
     "start_time": "2024-02-02T08:52:59.884599",
     "status": "completed"
    },
    "tags": []
   },
   "outputs": [
    {
     "data": {
      "text/html": [
       "<div>\n",
       "<style scoped>\n",
       "    .dataframe tbody tr th:only-of-type {\n",
       "        vertical-align: middle;\n",
       "    }\n",
       "\n",
       "    .dataframe tbody tr th {\n",
       "        vertical-align: top;\n",
       "    }\n",
       "\n",
       "    .dataframe thead th {\n",
       "        text-align: right;\n",
       "    }\n",
       "</style>\n",
       "<table border=\"1\" class=\"dataframe\">\n",
       "  <thead>\n",
       "    <tr style=\"text-align: right;\">\n",
       "      <th></th>\n",
       "      <th>Item_Identifier</th>\n",
       "      <th>Item_Weight</th>\n",
       "      <th>Item_Fat_Content</th>\n",
       "      <th>Item_Visibility</th>\n",
       "      <th>Item_Type</th>\n",
       "      <th>Item_MRP</th>\n",
       "      <th>Outlet_Identifier</th>\n",
       "      <th>Outlet_Establishment_Year</th>\n",
       "      <th>Outlet_Size</th>\n",
       "      <th>Outlet_Location_Type</th>\n",
       "      <th>Outlet_Type</th>\n",
       "      <th>Item_Outlet_Sales</th>\n",
       "    </tr>\n",
       "  </thead>\n",
       "  <tbody>\n",
       "    <tr>\n",
       "      <th>count</th>\n",
       "      <td>8523</td>\n",
       "      <td>7060.000000</td>\n",
       "      <td>8523</td>\n",
       "      <td>8523.000000</td>\n",
       "      <td>8523</td>\n",
       "      <td>8523.000000</td>\n",
       "      <td>8523</td>\n",
       "      <td>8523.000000</td>\n",
       "      <td>6113</td>\n",
       "      <td>8523</td>\n",
       "      <td>8523</td>\n",
       "      <td>8523.000000</td>\n",
       "    </tr>\n",
       "    <tr>\n",
       "      <th>unique</th>\n",
       "      <td>1559</td>\n",
       "      <td>NaN</td>\n",
       "      <td>5</td>\n",
       "      <td>NaN</td>\n",
       "      <td>16</td>\n",
       "      <td>NaN</td>\n",
       "      <td>10</td>\n",
       "      <td>NaN</td>\n",
       "      <td>3</td>\n",
       "      <td>3</td>\n",
       "      <td>4</td>\n",
       "      <td>NaN</td>\n",
       "    </tr>\n",
       "    <tr>\n",
       "      <th>top</th>\n",
       "      <td>FDW13</td>\n",
       "      <td>NaN</td>\n",
       "      <td>Low Fat</td>\n",
       "      <td>NaN</td>\n",
       "      <td>Fruits and Vegetables</td>\n",
       "      <td>NaN</td>\n",
       "      <td>OUT027</td>\n",
       "      <td>NaN</td>\n",
       "      <td>Medium</td>\n",
       "      <td>Tier 3</td>\n",
       "      <td>Supermarket Type1</td>\n",
       "      <td>NaN</td>\n",
       "    </tr>\n",
       "    <tr>\n",
       "      <th>freq</th>\n",
       "      <td>10</td>\n",
       "      <td>NaN</td>\n",
       "      <td>5089</td>\n",
       "      <td>NaN</td>\n",
       "      <td>1232</td>\n",
       "      <td>NaN</td>\n",
       "      <td>935</td>\n",
       "      <td>NaN</td>\n",
       "      <td>2793</td>\n",
       "      <td>3350</td>\n",
       "      <td>5577</td>\n",
       "      <td>NaN</td>\n",
       "    </tr>\n",
       "    <tr>\n",
       "      <th>mean</th>\n",
       "      <td>NaN</td>\n",
       "      <td>12.857645</td>\n",
       "      <td>NaN</td>\n",
       "      <td>0.066132</td>\n",
       "      <td>NaN</td>\n",
       "      <td>140.992782</td>\n",
       "      <td>NaN</td>\n",
       "      <td>1997.831867</td>\n",
       "      <td>NaN</td>\n",
       "      <td>NaN</td>\n",
       "      <td>NaN</td>\n",
       "      <td>2181.288914</td>\n",
       "    </tr>\n",
       "    <tr>\n",
       "      <th>std</th>\n",
       "      <td>NaN</td>\n",
       "      <td>4.643456</td>\n",
       "      <td>NaN</td>\n",
       "      <td>0.051598</td>\n",
       "      <td>NaN</td>\n",
       "      <td>62.275067</td>\n",
       "      <td>NaN</td>\n",
       "      <td>8.371760</td>\n",
       "      <td>NaN</td>\n",
       "      <td>NaN</td>\n",
       "      <td>NaN</td>\n",
       "      <td>1706.499616</td>\n",
       "    </tr>\n",
       "    <tr>\n",
       "      <th>min</th>\n",
       "      <td>NaN</td>\n",
       "      <td>4.555000</td>\n",
       "      <td>NaN</td>\n",
       "      <td>0.000000</td>\n",
       "      <td>NaN</td>\n",
       "      <td>31.290000</td>\n",
       "      <td>NaN</td>\n",
       "      <td>1985.000000</td>\n",
       "      <td>NaN</td>\n",
       "      <td>NaN</td>\n",
       "      <td>NaN</td>\n",
       "      <td>33.290000</td>\n",
       "    </tr>\n",
       "    <tr>\n",
       "      <th>25%</th>\n",
       "      <td>NaN</td>\n",
       "      <td>8.773750</td>\n",
       "      <td>NaN</td>\n",
       "      <td>0.026989</td>\n",
       "      <td>NaN</td>\n",
       "      <td>93.826500</td>\n",
       "      <td>NaN</td>\n",
       "      <td>1987.000000</td>\n",
       "      <td>NaN</td>\n",
       "      <td>NaN</td>\n",
       "      <td>NaN</td>\n",
       "      <td>834.247400</td>\n",
       "    </tr>\n",
       "    <tr>\n",
       "      <th>50%</th>\n",
       "      <td>NaN</td>\n",
       "      <td>12.600000</td>\n",
       "      <td>NaN</td>\n",
       "      <td>0.053931</td>\n",
       "      <td>NaN</td>\n",
       "      <td>143.012800</td>\n",
       "      <td>NaN</td>\n",
       "      <td>1999.000000</td>\n",
       "      <td>NaN</td>\n",
       "      <td>NaN</td>\n",
       "      <td>NaN</td>\n",
       "      <td>1794.331000</td>\n",
       "    </tr>\n",
       "    <tr>\n",
       "      <th>75%</th>\n",
       "      <td>NaN</td>\n",
       "      <td>16.850000</td>\n",
       "      <td>NaN</td>\n",
       "      <td>0.094585</td>\n",
       "      <td>NaN</td>\n",
       "      <td>185.643700</td>\n",
       "      <td>NaN</td>\n",
       "      <td>2004.000000</td>\n",
       "      <td>NaN</td>\n",
       "      <td>NaN</td>\n",
       "      <td>NaN</td>\n",
       "      <td>3101.296400</td>\n",
       "    </tr>\n",
       "    <tr>\n",
       "      <th>max</th>\n",
       "      <td>NaN</td>\n",
       "      <td>21.350000</td>\n",
       "      <td>NaN</td>\n",
       "      <td>0.328391</td>\n",
       "      <td>NaN</td>\n",
       "      <td>266.888400</td>\n",
       "      <td>NaN</td>\n",
       "      <td>2009.000000</td>\n",
       "      <td>NaN</td>\n",
       "      <td>NaN</td>\n",
       "      <td>NaN</td>\n",
       "      <td>13086.964800</td>\n",
       "    </tr>\n",
       "  </tbody>\n",
       "</table>\n",
       "</div>"
      ],
      "text/plain": [
       "       Item_Identifier  Item_Weight Item_Fat_Content  Item_Visibility  \\\n",
       "count             8523  7060.000000             8523      8523.000000   \n",
       "unique            1559          NaN                5              NaN   \n",
       "top              FDW13          NaN          Low Fat              NaN   \n",
       "freq                10          NaN             5089              NaN   \n",
       "mean               NaN    12.857645              NaN         0.066132   \n",
       "std                NaN     4.643456              NaN         0.051598   \n",
       "min                NaN     4.555000              NaN         0.000000   \n",
       "25%                NaN     8.773750              NaN         0.026989   \n",
       "50%                NaN    12.600000              NaN         0.053931   \n",
       "75%                NaN    16.850000              NaN         0.094585   \n",
       "max                NaN    21.350000              NaN         0.328391   \n",
       "\n",
       "                    Item_Type     Item_MRP Outlet_Identifier  \\\n",
       "count                    8523  8523.000000              8523   \n",
       "unique                     16          NaN                10   \n",
       "top     Fruits and Vegetables          NaN            OUT027   \n",
       "freq                     1232          NaN               935   \n",
       "mean                      NaN   140.992782               NaN   \n",
       "std                       NaN    62.275067               NaN   \n",
       "min                       NaN    31.290000               NaN   \n",
       "25%                       NaN    93.826500               NaN   \n",
       "50%                       NaN   143.012800               NaN   \n",
       "75%                       NaN   185.643700               NaN   \n",
       "max                       NaN   266.888400               NaN   \n",
       "\n",
       "        Outlet_Establishment_Year Outlet_Size Outlet_Location_Type  \\\n",
       "count                 8523.000000        6113                 8523   \n",
       "unique                        NaN           3                    3   \n",
       "top                           NaN      Medium               Tier 3   \n",
       "freq                          NaN        2793                 3350   \n",
       "mean                  1997.831867         NaN                  NaN   \n",
       "std                      8.371760         NaN                  NaN   \n",
       "min                   1985.000000         NaN                  NaN   \n",
       "25%                   1987.000000         NaN                  NaN   \n",
       "50%                   1999.000000         NaN                  NaN   \n",
       "75%                   2004.000000         NaN                  NaN   \n",
       "max                   2009.000000         NaN                  NaN   \n",
       "\n",
       "              Outlet_Type  Item_Outlet_Sales  \n",
       "count                8523        8523.000000  \n",
       "unique                  4                NaN  \n",
       "top     Supermarket Type1                NaN  \n",
       "freq                 5577                NaN  \n",
       "mean                  NaN        2181.288914  \n",
       "std                   NaN        1706.499616  \n",
       "min                   NaN          33.290000  \n",
       "25%                   NaN         834.247400  \n",
       "50%                   NaN        1794.331000  \n",
       "75%                   NaN        3101.296400  \n",
       "max                   NaN       13086.964800  "
      ]
     },
     "execution_count": 33,
     "metadata": {},
     "output_type": "execute_result"
    }
   ],
   "source": [
    "df.describe(include='all')"
   ]
  },
  {
   "cell_type": "markdown",
   "id": "cdffcf35",
   "metadata": {
    "papermill": {
     "duration": 0.043987,
     "end_time": "2024-02-02T08:53:00.058589",
     "exception": false,
     "start_time": "2024-02-02T08:53:00.014602",
     "status": "completed"
    },
    "tags": []
   },
   "source": [
    "**We don't need Item_Identifier and Outlet_Identifier**"
   ]
  },
  {
   "cell_type": "code",
   "execution_count": 34,
   "id": "e6b76952",
   "metadata": {
    "execution": {
     "iopub.execute_input": "2024-02-02T08:53:00.149539Z",
     "iopub.status.busy": "2024-02-02T08:53:00.148978Z",
     "iopub.status.idle": "2024-02-02T08:53:00.153841Z",
     "shell.execute_reply": "2024-02-02T08:53:00.153223Z"
    },
    "papermill": {
     "duration": 0.052284,
     "end_time": "2024-02-02T08:53:00.155849",
     "exception": false,
     "start_time": "2024-02-02T08:53:00.103565",
     "status": "completed"
    },
    "tags": []
   },
   "outputs": [],
   "source": [
    "df=df.drop(columns=['Item_Identifier','Outlet_Identifier'])"
   ]
  },
  {
   "cell_type": "code",
   "execution_count": 35,
   "id": "d778709c",
   "metadata": {
    "execution": {
     "iopub.execute_input": "2024-02-02T08:53:00.246180Z",
     "iopub.status.busy": "2024-02-02T08:53:00.245611Z",
     "iopub.status.idle": "2024-02-02T08:53:00.254640Z",
     "shell.execute_reply": "2024-02-02T08:53:00.253221Z"
    },
    "papermill": {
     "duration": 0.055975,
     "end_time": "2024-02-02T08:53:00.256430",
     "exception": false,
     "start_time": "2024-02-02T08:53:00.200455",
     "status": "completed"
    },
    "tags": []
   },
   "outputs": [
    {
     "data": {
      "text/plain": [
       "Item_Weight                  1463\n",
       "Item_Fat_Content                0\n",
       "Item_Visibility                 0\n",
       "Item_Type                       0\n",
       "Item_MRP                        0\n",
       "Outlet_Establishment_Year       0\n",
       "Outlet_Size                  2410\n",
       "Outlet_Location_Type            0\n",
       "Outlet_Type                     0\n",
       "Item_Outlet_Sales               0\n",
       "dtype: int64"
      ]
     },
     "execution_count": 35,
     "metadata": {},
     "output_type": "execute_result"
    }
   ],
   "source": [
    "df.isna().sum()"
   ]
  },
  {
   "cell_type": "markdown",
   "id": "6a6aa5b8",
   "metadata": {
    "papermill": {
     "duration": 0.043393,
     "end_time": "2024-02-02T08:53:00.342640",
     "exception": false,
     "start_time": "2024-02-02T08:53:00.299247",
     "status": "completed"
    },
    "tags": []
   },
   "source": [
    "**We have lots of missing values in two columns and they have very low correlation => 1.Item_Weight , 2.Outlet_Size**"
   ]
  },
  {
   "cell_type": "code",
   "execution_count": 36,
   "id": "af119f8c",
   "metadata": {
    "execution": {
     "iopub.execute_input": "2024-02-02T08:53:00.431060Z",
     "iopub.status.busy": "2024-02-02T08:53:00.430706Z",
     "iopub.status.idle": "2024-02-02T08:53:00.439876Z",
     "shell.execute_reply": "2024-02-02T08:53:00.439155Z"
    },
    "papermill": {
     "duration": 0.055577,
     "end_time": "2024-02-02T08:53:00.441999",
     "exception": false,
     "start_time": "2024-02-02T08:53:00.386422",
     "status": "completed"
    },
    "tags": []
   },
   "outputs": [
    {
     "data": {
      "text/plain": [
       "Item_Fat_Content             0\n",
       "Item_Visibility              0\n",
       "Item_Type                    0\n",
       "Item_MRP                     0\n",
       "Outlet_Establishment_Year    0\n",
       "Outlet_Location_Type         0\n",
       "Outlet_Type                  0\n",
       "Item_Outlet_Sales            0\n",
       "dtype: int64"
      ]
     },
     "execution_count": 36,
     "metadata": {},
     "output_type": "execute_result"
    }
   ],
   "source": [
    "df=df.drop(columns=['Item_Weight','Outlet_Size'])\n",
    "df.isna().sum()"
   ]
  },
  {
   "cell_type": "code",
   "execution_count": 37,
   "id": "0c74a74e",
   "metadata": {
    "execution": {
     "iopub.execute_input": "2024-02-02T08:53:00.533877Z",
     "iopub.status.busy": "2024-02-02T08:53:00.533066Z",
     "iopub.status.idle": "2024-02-02T08:53:00.959987Z",
     "shell.execute_reply": "2024-02-02T08:53:00.958671Z"
    },
    "papermill": {
     "duration": 0.474737,
     "end_time": "2024-02-02T08:53:00.961999",
     "exception": false,
     "start_time": "2024-02-02T08:53:00.487262",
     "status": "completed"
    },
    "tags": []
   },
   "outputs": [
    {
     "data": {
      "image/png": "[encoded data removed]",
      "text/plain": [
       "<Figure size 2000x500 with 2 Axes>"
      ]
     },
     "metadata": {},
     "output_type": "display_data"
    },
    {
     "data": {
      "image/png": "[encoded data removed]",
      "text/plain": [
       "<Figure size 2000x500 with 2 Axes>"
      ]
     },
     "metadata": {},
     "output_type": "display_data"
    }
   ],
   "source": [
    "df_check_noises = pd.DataFrame(df,columns=[\"Item_Visibility\", \"Item_MRP\", \"Outlet_Establishment_Year\",\"Item_Outlet_Sales\"])\n",
    "i = 0\n",
    "while i < 4:\n",
    "    plt.figure(figsize=[20, 5])\n",
    "    for j in range(1, 3):  \n",
    "        plt.subplot(1, 2, j)\n",
    "        sns.boxplot(x=df_check_noises.iloc[:, i],data=df_check_noises,color='red')\n",
    "        i += 1\n",
    "        if i >= 4: \n",
    "            break\n",
    "    plt.show()"
   ]
  },
  {
   "cell_type": "code",
   "execution_count": 38,
   "id": "13b8b3d0",
   "metadata": {
    "execution": {
     "iopub.execute_input": "2024-02-02T08:53:01.056744Z",
     "iopub.status.busy": "2024-02-02T08:53:01.055817Z",
     "iopub.status.idle": "2024-02-02T08:53:01.063250Z",
     "shell.execute_reply": "2024-02-02T08:53:01.062298Z"
    },
    "papermill": {
     "duration": 0.055956,
     "end_time": "2024-02-02T08:53:01.065095",
     "exception": false,
     "start_time": "2024-02-02T08:53:01.009139",
     "status": "completed"
    },
    "tags": []
   },
   "outputs": [
    {
     "data": {
      "text/plain": [
       "50"
      ]
     },
     "execution_count": 38,
     "metadata": {},
     "output_type": "execute_result"
    }
   ],
   "source": [
    "len(df[df[\"Item_Outlet_Sales\"]>8000])"
   ]
  },
  {
   "cell_type": "code",
   "execution_count": 39,
   "id": "2728c71f",
   "metadata": {
    "execution": {
     "iopub.execute_input": "2024-02-02T08:53:01.211720Z",
     "iopub.status.busy": "2024-02-02T08:53:01.211125Z",
     "iopub.status.idle": "2024-02-02T08:53:01.218823Z",
     "shell.execute_reply": "2024-02-02T08:53:01.217743Z"
    },
    "papermill": {
     "duration": 0.110697,
     "end_time": "2024-02-02T08:53:01.220975",
     "exception": false,
     "start_time": "2024-02-02T08:53:01.110278",
     "status": "completed"
    },
    "tags": []
   },
   "outputs": [
    {
     "data": {
      "text/plain": [
       "134"
      ]
     },
     "execution_count": 39,
     "metadata": {},
     "output_type": "execute_result"
    }
   ],
   "source": [
    "len(df[df[\"Item_Visibility\"]>0.20])"
   ]
  },
  {
   "cell_type": "markdown",
   "id": "fbc0e492",
   "metadata": {
    "papermill": {
     "duration": 0.045431,
     "end_time": "2024-02-02T08:53:01.310286",
     "exception": false,
     "start_time": "2024-02-02T08:53:01.264855",
     "status": "completed"
    },
    "tags": []
   },
   "source": [
    "**I think we don't hava noise**"
   ]
  },
  {
   "cell_type": "code",
   "execution_count": 40,
   "id": "2fc34e41",
   "metadata": {
    "execution": {
     "iopub.execute_input": "2024-02-02T08:53:01.402413Z",
     "iopub.status.busy": "2024-02-02T08:53:01.402071Z",
     "iopub.status.idle": "2024-02-02T08:53:01.415030Z",
     "shell.execute_reply": "2024-02-02T08:53:01.414367Z"
    },
    "papermill": {
     "duration": 0.060698,
     "end_time": "2024-02-02T08:53:01.417092",
     "exception": false,
     "start_time": "2024-02-02T08:53:01.356394",
     "status": "completed"
    },
    "tags": []
   },
   "outputs": [],
   "source": [
    "df=df.replace(\"low fat\",\"Low Fat\")\n",
    "df=df.replace(\"LF\",\"Low Fat\")\n",
    "df=df.replace(\"reg\",\"Regular\")"
   ]
  },
  {
   "cell_type": "code",
   "execution_count": 41,
   "id": "eb4a9b37",
   "metadata": {
    "execution": {
     "iopub.execute_input": "2024-02-02T08:53:01.509913Z",
     "iopub.status.busy": "2024-02-02T08:53:01.509402Z",
     "iopub.status.idle": "2024-02-02T08:53:01.516894Z",
     "shell.execute_reply": "2024-02-02T08:53:01.516335Z"
    },
    "papermill": {
     "duration": 0.057276,
     "end_time": "2024-02-02T08:53:01.518992",
     "exception": false,
     "start_time": "2024-02-02T08:53:01.461716",
     "status": "completed"
    },
    "tags": []
   },
   "outputs": [
    {
     "name": "stdout",
     "output_type": "stream",
     "text": [
      "Unique values of  Item_Fat_Content:\n",
      " ['Low Fat' 'Regular'] \n",
      "\n",
      "Unique values of  Item_Type:\n",
      " ['Dairy' 'Soft Drinks' 'Meat' 'Fruits and Vegetables' 'Household'\n",
      " 'Baking Goods' 'Snack Foods' 'Frozen Foods' 'Breakfast'\n",
      " 'Health and Hygiene' 'Hard Drinks' 'Canned' 'Breads' 'Starchy Foods'\n",
      " 'Others' 'Seafood'] \n",
      "\n",
      "Unique values of  Outlet_Location_Type:\n",
      " ['Tier 1' 'Tier 3' 'Tier 2'] \n",
      "\n",
      "Unique values of  Outlet_Type:\n",
      " ['Supermarket Type1' 'Supermarket Type2' 'Grocery Store'\n",
      " 'Supermarket Type3']\n"
     ]
    }
   ],
   "source": [
    "print(\"Unique values of \",\"Item_Fat_Content:\\n\",pd.unique(df['Item_Fat_Content']),\"\\n\")\n",
    "print(\"Unique values of \",\"Item_Type:\\n\",pd.unique(df['Item_Type']),\"\\n\")\n",
    "print(\"Unique values of \",\"Outlet_Location_Type:\\n\",pd.unique(df['Outlet_Location_Type']),\"\\n\")\n",
    "print(\"Unique values of \",\"Outlet_Type:\\n\",pd.unique(df['Outlet_Type']))"
   ]
  },
  {
   "cell_type": "code",
   "execution_count": 42,
   "id": "3e274ed9",
   "metadata": {
    "execution": {
     "iopub.execute_input": "2024-02-02T08:53:01.612686Z",
     "iopub.status.busy": "2024-02-02T08:53:01.612372Z",
     "iopub.status.idle": "2024-02-02T08:53:01.682533Z",
     "shell.execute_reply": "2024-02-02T08:53:01.681683Z"
    },
    "papermill": {
     "duration": 0.119263,
     "end_time": "2024-02-02T08:53:01.684387",
     "exception": false,
     "start_time": "2024-02-02T08:53:01.565124",
     "status": "completed"
    },
    "tags": []
   },
   "outputs": [
    {
     "name": "stdout",
     "output_type": "stream",
     "text": [
      "<class 'pandas.core.frame.DataFrame'>\n",
      "RangeIndex: 8523 entries, 0 to 8522\n",
      "Data columns (total 25 columns):\n",
      " #   Column                           Non-Null Count  Dtype  \n",
      "---  ------                           --------------  -----  \n",
      " 0   Item_Visibility                  8523 non-null   float64\n",
      " 1   Item_MRP                         8523 non-null   float64\n",
      " 2   Outlet_Establishment_Year        8523 non-null   int64  \n",
      " 3   Item_Outlet_Sales                8523 non-null   float64\n",
      " 4   Item_Fat_Content_Regular         8523 non-null   int64  \n",
      " 5   Item_Type_Breads                 8523 non-null   int64  \n",
      " 6   Item_Type_Breakfast              8523 non-null   int64  \n",
      " 7   Item_Type_Canned                 8523 non-null   int64  \n",
      " 8   Item_Type_Dairy                  8523 non-null   int64  \n",
      " 9   Item_Type_Frozen Foods           8523 non-null   int64  \n",
      " 10  Item_Type_Fruits and Vegetables  8523 non-null   int64  \n",
      " 11  Item_Type_Hard Drinks            8523 non-null   int64  \n",
      " 12  Item_Type_Health and Hygiene     8523 non-null   int64  \n",
      " 13  Item_Type_Household              8523 non-null   int64  \n",
      " 14  Item_Type_Meat                   8523 non-null   int64  \n",
      " 15  Item_Type_Others                 8523 non-null   int64  \n",
      " 16  Item_Type_Seafood                8523 non-null   int64  \n",
      " 17  Item_Type_Snack Foods            8523 non-null   int64  \n",
      " 18  Item_Type_Soft Drinks            8523 non-null   int64  \n",
      " 19  Item_Type_Starchy Foods          8523 non-null   int64  \n",
      " 20  Outlet_Location_Type_Tier 2      8523 non-null   int64  \n",
      " 21  Outlet_Location_Type_Tier 3      8523 non-null   int64  \n",
      " 22  Outlet_Type_Supermarket Type1    8523 non-null   int64  \n",
      " 23  Outlet_Type_Supermarket Type2    8523 non-null   int64  \n",
      " 24  Outlet_Type_Supermarket Type3    8523 non-null   int64  \n",
      "dtypes: float64(3), int64(22)\n",
      "memory usage: 1.6 MB\n"
     ]
    }
   ],
   "source": [
    "df = pd.get_dummies(df, drop_first=True)\n",
    "df=df.replace(True,1)\n",
    "df=df.replace(False,0)\n",
    "df.info()"
   ]
  },
  {
   "cell_type": "code",
   "execution_count": 43,
   "id": "8772a40f",
   "metadata": {
    "execution": {
     "iopub.execute_input": "2024-02-02T08:53:01.775540Z",
     "iopub.status.busy": "2024-02-02T08:53:01.775220Z",
     "iopub.status.idle": "2024-02-02T08:53:02.004448Z",
     "shell.execute_reply": "2024-02-02T08:53:02.002990Z"
    },
    "papermill": {
     "duration": 0.278521,
     "end_time": "2024-02-02T08:53:02.006899",
     "exception": false,
     "start_time": "2024-02-02T08:53:01.728378",
     "status": "completed"
    },
    "tags": []
   },
   "outputs": [
    {
     "data": {
      "image/png": "[encoded data removed]",
      "text/plain": [
       "<Figure size 1000x300 with 2 Axes>"
      ]
     },
     "metadata": {},
     "output_type": "display_data"
    }
   ],
   "source": [
    "df_corr=pd.DataFrame(df,columns=['Item_Visibility','Item_MRP','Outlet_Establishment_Year','Item_Outlet_Sales'])\n",
    "fig, ax = plt.subplots(figsize = (10, 3))\n",
    "ax = sns.heatmap(df_corr.corr(numeric_only =True),cmap='RdBu_r',cbar=True,annot=True,linewidths=0.5,ax=ax)\n",
    "plt.show()"
   ]
  },
  {
   "cell_type": "code",
   "execution_count": 44,
   "id": "18dcc187",
   "metadata": {
    "execution": {
     "iopub.execute_input": "2024-02-02T08:53:02.101745Z",
     "iopub.status.busy": "2024-02-02T08:53:02.101435Z",
     "iopub.status.idle": "2024-02-02T08:53:02.107390Z",
     "shell.execute_reply": "2024-02-02T08:53:02.106518Z"
    },
    "papermill": {
     "duration": 0.053934,
     "end_time": "2024-02-02T08:53:02.109039",
     "exception": false,
     "start_time": "2024-02-02T08:53:02.055105",
     "status": "completed"
    },
    "tags": []
   },
   "outputs": [],
   "source": [
    "x=df.drop(columns=['Item_Outlet_Sales'])\n",
    "y=df.Item_Outlet_Sales"
   ]
  },
  {
   "cell_type": "code",
   "execution_count": 45,
   "id": "aa4065f0",
   "metadata": {
    "execution": {
     "iopub.execute_input": "2024-02-02T08:53:02.203309Z",
     "iopub.status.busy": "2024-02-02T08:53:02.203008Z",
     "iopub.status.idle": "2024-02-02T08:53:02.215286Z",
     "shell.execute_reply": "2024-02-02T08:53:02.214129Z"
    },
    "papermill": {
     "duration": 0.063167,
     "end_time": "2024-02-02T08:53:02.217319",
     "exception": false,
     "start_time": "2024-02-02T08:53:02.154152",
     "status": "completed"
    },
    "tags": []
   },
   "outputs": [
    {
     "name": "stdout",
     "output_type": "stream",
     "text": [
      "x_train shape :  (7244, 24)\n",
      "x_test shape :  (1279, 24)\n",
      "y_train shape :  (7244,)\n",
      "y_test shape :  (1279,)\n"
     ]
    }
   ],
   "source": [
    "x_train , x_test , y_train , y_test = train_test_split(x,y,test_size=0.15,random_state=42)\n",
    "print(\"x_train shape : \",x_train.shape)\n",
    "print(\"x_test shape : \",x_test.shape)\n",
    "print(\"y_train shape : \",y_train.shape)\n",
    "print(\"y_test shape : \",y_test.shape)"
   ]
  },
  {
   "cell_type": "code",
   "execution_count": 46,
   "id": "3a8e1954",
   "metadata": {
    "execution": {
     "iopub.execute_input": "2024-02-02T08:53:02.313278Z",
     "iopub.status.busy": "2024-02-02T08:53:02.312807Z",
     "iopub.status.idle": "2024-02-02T08:53:02.324810Z",
     "shell.execute_reply": "2024-02-02T08:53:02.324184Z"
    },
    "papermill": {
     "duration": 0.062421,
     "end_time": "2024-02-02T08:53:02.326399",
     "exception": false,
     "start_time": "2024-02-02T08:53:02.263978",
     "status": "completed"
    },
    "tags": []
   },
   "outputs": [],
   "source": [
    "scaler = StandardScaler()\n",
    "scaler.fit(x_train)\n",
    "x_train_norm=scaler.transform(x_train)\n",
    "x_test_norm=scaler.transform(x_test)"
   ]
  },
  {
   "cell_type": "markdown",
   "id": "296091fe",
   "metadata": {
    "papermill": {
     "duration": 0.046759,
     "end_time": "2024-02-02T08:53:02.419362",
     "exception": false,
     "start_time": "2024-02-02T08:53:02.372603",
     "status": "completed"
    },
    "tags": []
   },
   "source": [
    "# Model"
   ]
  },
  {
   "cell_type": "code",
   "execution_count": 47,
   "id": "0e2ed5b5",
   "metadata": {
    "execution": {
     "iopub.execute_input": "2024-02-02T08:53:02.514054Z",
     "iopub.status.busy": "2024-02-02T08:53:02.513497Z",
     "iopub.status.idle": "2024-02-02T08:53:02.548269Z",
     "shell.execute_reply": "2024-02-02T08:53:02.547383Z"
    },
    "papermill": {
     "duration": 0.084737,
     "end_time": "2024-02-02T08:53:02.550214",
     "exception": false,
     "start_time": "2024-02-02T08:53:02.465477",
     "status": "completed"
    },
    "tags": []
   },
   "outputs": [
    {
     "name": "stdout",
     "output_type": "stream",
     "text": [
      "Mean Absolute Error: 799.3415225934131\n",
      "Mean Squared Error: 1186478.8853531815\n",
      "Root Mean Squared Error 1089.2561155913615\n",
      "R2 Score: 0.5782838271770299\n"
     ]
    }
   ],
   "source": [
    "model_sgd_reg=SGDRegressor()\n",
    "model_sgd_reg.fit(x_train_norm,y_train)\n",
    "print('Mean Absolute Error:',metrics.mean_absolute_error(y_test,model_sgd_reg.predict(x_test_norm)))\n",
    "print('Mean Squared Error:',metrics.mean_squared_error(y_test,model_sgd_reg.predict(x_test_norm)))\n",
    "print('Root Mean Squared Error',np.sqrt(metrics.mean_squared_error(y_test,model_sgd_reg.predict(x_test_norm))))\n",
    "print('R2 Score:',metrics.r2_score(y_test,model_sgd_reg.predict(x_test_norm)))\n"
   ]
  },
  {
   "cell_type": "code",
   "execution_count": 48,
   "id": "38845d3f",
   "metadata": {
    "execution": {
     "iopub.execute_input": "2024-02-02T08:53:02.681687Z",
     "iopub.status.busy": "2024-02-02T08:53:02.681390Z",
     "iopub.status.idle": "2024-02-02T08:53:02.720317Z",
     "shell.execute_reply": "2024-02-02T08:53:02.719304Z"
    },
    "papermill": {
     "duration": 0.101711,
     "end_time": "2024-02-02T08:53:02.722150",
     "exception": false,
     "start_time": "2024-02-02T08:53:02.620439",
     "status": "completed"
    },
    "tags": []
   },
   "outputs": [
    {
     "name": "stdout",
     "output_type": "stream",
     "text": [
      "Mean Absolute Error: 798.6173389553243\n",
      "Mean Squared Error: 1180659.5687927494\n",
      "Root Mean Squared Error 1086.5815978529865\n",
      "R2 Score: 0.5803522162049393\n"
     ]
    }
   ],
   "source": [
    "model_ln_reg=LinearRegression()\n",
    "model_ln_reg.fit(x_train_norm,y_train)\n",
    "metrics.r2_score(y_test,model_ln_reg.predict(x_test_norm))\n",
    "print('Mean Absolute Error:',metrics.mean_absolute_error(y_test,model_ln_reg.predict(x_test_norm)))\n",
    "print('Mean Squared Error:',metrics.mean_squared_error(y_test,model_ln_reg.predict(x_test_norm)))\n",
    "print('Root Mean Squared Error',np.sqrt(metrics.mean_squared_error(y_test,model_ln_reg.predict(x_test_norm))))\n",
    "print('R2 Score:',metrics.r2_score(y_test,model_ln_reg.predict(x_test_norm)))"
   ]
  },
  {
   "cell_type": "code",
   "execution_count": 49,
   "id": "b84ee586",
   "metadata": {
    "execution": {
     "iopub.execute_input": "2024-02-02T08:53:02.888019Z",
     "iopub.status.busy": "2024-02-02T08:53:02.887685Z",
     "iopub.status.idle": "2024-02-02T08:53:02.902902Z",
     "shell.execute_reply": "2024-02-02T08:53:02.901986Z"
    },
    "papermill": {
     "duration": 0.065226,
     "end_time": "2024-02-02T08:53:02.904555",
     "exception": false,
     "start_time": "2024-02-02T08:53:02.839329",
     "status": "completed"
    },
    "tags": []
   },
   "outputs": [
    {
     "name": "stdout",
     "output_type": "stream",
     "text": [
      "Mean Absolute Error: 798.5913574067896\n",
      "Mean Squared Error: 1180646.3116796825\n",
      "Root Mean Squared Error 1086.5754974596484\n",
      "R2 Score: 0.5803569282474832\n"
     ]
    }
   ],
   "source": [
    "model_ridge_reg=Ridge()\n",
    "model_ridge_reg.fit(x_train_norm,y_train)\n",
    "print('Mean Absolute Error:',metrics.mean_absolute_error(y_test,model_ridge_reg.predict(x_test_norm)))\n",
    "print('Mean Squared Error:',metrics.mean_squared_error(y_test,model_ridge_reg.predict(x_test_norm)))\n",
    "print('Root Mean Squared Error',np.sqrt(metrics.mean_squared_error(y_test,model_ridge_reg.predict(x_test_norm))))\n",
    "print('R2 Score:',metrics.r2_score(y_test,model_ridge_reg.predict(x_test_norm)))"
   ]
  },
  {
   "cell_type": "code",
   "execution_count": 50,
   "id": "912735b8",
   "metadata": {
    "execution": {
     "iopub.execute_input": "2024-02-02T08:53:03.037026Z",
     "iopub.status.busy": "2024-02-02T08:53:03.036701Z",
     "iopub.status.idle": "2024-02-02T08:53:03.061392Z",
     "shell.execute_reply": "2024-02-02T08:53:03.060508Z"
    },
    "papermill": {
     "duration": 0.088265,
     "end_time": "2024-02-02T08:53:03.063325",
     "exception": false,
     "start_time": "2024-02-02T08:53:02.975060",
     "status": "completed"
    },
    "tags": []
   },
   "outputs": [
    {
     "name": "stdout",
     "output_type": "stream",
     "text": [
      "Mean Absolute Error: 798.2273146869701\n",
      "Mean Squared Error: 1179988.4716816652\n",
      "Root Mean Squared Error 1086.272742768438\n",
      "R2 Score: 0.5805907476350158\n"
     ]
    }
   ],
   "source": [
    "model_lasso_reg=Lasso()\n",
    "model_lasso_reg.fit(x_train_norm,y_train)\n",
    "print('Mean Absolute Error:',metrics.mean_absolute_error(y_test,model_lasso_reg.predict(x_test_norm)))\n",
    "print('Mean Squared Error:',metrics.mean_squared_error(y_test,model_lasso_reg.predict(x_test_norm)))\n",
    "print('Root Mean Squared Error',np.sqrt(metrics.mean_squared_error(y_test,model_lasso_reg.predict(x_test_norm))))\n",
    "print('R2 Score:',metrics.r2_score(y_test,model_lasso_reg.predict(x_test_norm)))"
   ]
  },
  {
   "cell_type": "code",
   "execution_count": 51,
   "id": "8d175a66",
   "metadata": {
    "execution": {
     "iopub.execute_input": "2024-02-02T08:53:03.232378Z",
     "iopub.status.busy": "2024-02-02T08:53:03.232092Z",
     "iopub.status.idle": "2024-02-02T08:53:03.249002Z",
     "shell.execute_reply": "2024-02-02T08:53:03.248378Z"
    },
    "papermill": {
     "duration": 0.064929,
     "end_time": "2024-02-02T08:53:03.250756",
     "exception": false,
     "start_time": "2024-02-02T08:53:03.185827",
     "status": "completed"
    },
    "tags": []
   },
   "outputs": [
    {
     "data": {
      "text/html": [
       "<div>\n",
       "<style scoped>\n",
       "    .dataframe tbody tr th:only-of-type {\n",
       "        vertical-align: middle;\n",
       "    }\n",
       "\n",
       "    .dataframe tbody tr th {\n",
       "        vertical-align: top;\n",
       "    }\n",
       "\n",
       "    .dataframe thead th {\n",
       "        text-align: right;\n",
       "    }\n",
       "</style>\n",
       "<table border=\"1\" class=\"dataframe\">\n",
       "  <thead>\n",
       "    <tr style=\"text-align: right;\">\n",
       "      <th></th>\n",
       "      <th>model</th>\n",
       "      <th>R2 Score</th>\n",
       "      <th>RMSE</th>\n",
       "    </tr>\n",
       "  </thead>\n",
       "  <tbody>\n",
       "    <tr>\n",
       "      <th>0</th>\n",
       "      <td>SGDRegressor</td>\n",
       "      <td>0.578284</td>\n",
       "      <td>1089.256116</td>\n",
       "    </tr>\n",
       "    <tr>\n",
       "      <th>1</th>\n",
       "      <td>LinearRegression</td>\n",
       "      <td>0.580352</td>\n",
       "      <td>1086.581598</td>\n",
       "    </tr>\n",
       "    <tr>\n",
       "      <th>2</th>\n",
       "      <td>Ridge</td>\n",
       "      <td>0.580357</td>\n",
       "      <td>1086.575497</td>\n",
       "    </tr>\n",
       "    <tr>\n",
       "      <th>3</th>\n",
       "      <td>Lasso</td>\n",
       "      <td>0.580591</td>\n",
       "      <td>1086.272743</td>\n",
       "    </tr>\n",
       "  </tbody>\n",
       "</table>\n",
       "</div>"
      ],
      "text/plain": [
       "              model  R2 Score         RMSE\n",
       "0      SGDRegressor  0.578284  1089.256116\n",
       "1  LinearRegression  0.580352  1086.581598\n",
       "2             Ridge  0.580357  1086.575497\n",
       "3             Lasso  0.580591  1086.272743"
      ]
     },
     "execution_count": 51,
     "metadata": {},
     "output_type": "execute_result"
    }
   ],
   "source": [
    "metric_df = pd.DataFrame({'model': ['SGDRegressor', 'LinearRegression', 'Ridge', 'Lasso'], \n",
    "                          'R2 Score': [metrics.r2_score(y_test,model_sgd_reg.predict(x_test_norm)),\n",
    "                                       metrics.r2_score(y_test,model_ln_reg.predict(x_test_norm)),\n",
    "                                         metrics.r2_score(y_test,model_ridge_reg.predict(x_test_norm)),\n",
    "                                         metrics.r2_score(y_test,model_lasso_reg.predict(x_test_norm))],\n",
    "                          'RMSE': [np.sqrt(metrics.mean_squared_error(y_test,model_sgd_reg.predict(x_test_norm))),\n",
    "                                      np.sqrt(metrics.mean_squared_error(y_test,model_ln_reg.predict(x_test_norm))),\n",
    "                                         np.sqrt(metrics.mean_squared_error(y_test,model_ridge_reg.predict(x_test_norm))),\n",
    "                                         np.sqrt(metrics.mean_squared_error(y_test,model_lasso_reg.predict(x_test_norm)))],\n",
    "                                         })\n",
    "metric_df"
   ]
  },
  {
   "cell_type": "code",
   "execution_count": 52,
   "id": "4b935c5e",
   "metadata": {
    "execution": {
     "iopub.execute_input": "2024-02-02T08:53:03.386402Z",
     "iopub.status.busy": "2024-02-02T08:53:03.385949Z",
     "iopub.status.idle": "2024-02-02T08:53:03.585199Z",
     "shell.execute_reply": "2024-02-02T08:53:03.584345Z"
    },
    "papermill": {
     "duration": 0.260661,
     "end_time": "2024-02-02T08:53:03.587093",
     "exception": false,
     "start_time": "2024-02-02T08:53:03.326432",
     "status": "completed"
    },
    "tags": []
   },
   "outputs": [
    {
     "data": {
      "text/plain": [
       "<Axes: xlabel='model'>"
      ]
     },
     "execution_count": 52,
     "metadata": {},
     "output_type": "execute_result"
    },
    {
     "data": {
      "image/png": "[encoded data removed]",
      "text/plain": [
       "<Figure size 640x480 with 1 Axes>"
      ]
     },
     "metadata": {},
     "output_type": "display_data"
    }
   ],
   "source": [
    "metric_df.plot(kind='bar', x='model', y=['R2 Score'])"
   ]
  },
  {
   "cell_type": "code",
   "execution_count": 53,
   "id": "58018f36",
   "metadata": {
    "execution": {
     "iopub.execute_input": "2024-02-02T08:53:03.684105Z",
     "iopub.status.busy": "2024-02-02T08:53:03.683749Z",
     "iopub.status.idle": "2024-02-02T08:53:05.115952Z",
     "shell.execute_reply": "2024-02-02T08:53:05.114701Z"
    },
    "papermill": {
     "duration": 1.48325,
     "end_time": "2024-02-02T08:53:05.117771",
     "exception": false,
     "start_time": "2024-02-02T08:53:03.634521",
     "status": "completed"
    },
    "tags": []
   },
   "outputs": [
    {
     "name": "stdout",
     "output_type": "stream",
     "text": [
      "[0.56912468 0.54830607 0.5974659  0.55785079 0.54070141 0.5393987\n",
      " 0.5641409  0.54480512 0.54272988 0.54682205 0.57673482 0.58661956\n",
      " 0.54896751 0.56737285 0.55732959 0.57968568 0.53673073]\n",
      "0.559105072033478\n"
     ]
    }
   ],
   "source": [
    "k_fold=KFold(n_splits=17)\n",
    "results=(cross_val_score(model_lasso_reg,x,y,cv=k_fold,n_jobs=-1))\n",
    "print(results)\n",
    "print(np.mean(results))"
   ]
  },
  {
   "cell_type": "markdown",
   "id": "4d12e564",
   "metadata": {
    "papermill": {
     "duration": 0.045925,
     "end_time": "2024-02-02T08:53:05.211466",
     "exception": false,
     "start_time": "2024-02-02T08:53:05.165541",
     "status": "completed"
    },
    "tags": []
   },
   "source": [
    "# Prediction"
   ]
  },
  {
   "cell_type": "code",
   "execution_count": 54,
   "id": "051c7a73",
   "metadata": {
    "execution": {
     "iopub.execute_input": "2024-02-02T08:53:05.319840Z",
     "iopub.status.busy": "2024-02-02T08:53:05.318580Z",
     "iopub.status.idle": "2024-02-02T08:53:05.332128Z",
     "shell.execute_reply": "2024-02-02T08:53:05.331051Z"
    },
    "papermill": {
     "duration": 0.074615,
     "end_time": "2024-02-02T08:53:05.334340",
     "exception": false,
     "start_time": "2024-02-02T08:53:05.259725",
     "status": "completed"
    },
    "tags": []
   },
   "outputs": [
    {
     "data": {
      "text/plain": [
       "Item_Visibility                       0.109991\n",
       "Item_MRP                            172.908000\n",
       "Outlet_Establishment_Year          2004.000000\n",
       "Item_Fat_Content_Regular              0.000000\n",
       "Item_Type_Breads                      0.000000\n",
       "Item_Type_Breakfast                   0.000000\n",
       "Item_Type_Canned                      0.000000\n",
       "Item_Type_Dairy                       0.000000\n",
       "Item_Type_Frozen Foods                0.000000\n",
       "Item_Type_Fruits and Vegetables       1.000000\n",
       "Item_Type_Hard Drinks                 0.000000\n",
       "Item_Type_Health and Hygiene          0.000000\n",
       "Item_Type_Household                   0.000000\n",
       "Item_Type_Meat                        0.000000\n",
       "Item_Type_Others                      0.000000\n",
       "Item_Type_Seafood                     0.000000\n",
       "Item_Type_Snack Foods                 0.000000\n",
       "Item_Type_Soft Drinks                 0.000000\n",
       "Item_Type_Starchy Foods               0.000000\n",
       "Outlet_Location_Type_Tier 2           1.000000\n",
       "Outlet_Location_Type_Tier 3           0.000000\n",
       "Outlet_Type_Supermarket Type1         1.000000\n",
       "Outlet_Type_Supermarket Type2         0.000000\n",
       "Outlet_Type_Supermarket Type3         0.000000\n",
       "Name: 2221, dtype: float64"
      ]
     },
     "execution_count": 54,
     "metadata": {},
     "output_type": "execute_result"
    }
   ],
   "source": [
    "x_train.iloc[0]"
   ]
  },
  {
   "cell_type": "code",
   "execution_count": 55,
   "id": "a9bc3e41",
   "metadata": {
    "execution": {
     "iopub.execute_input": "2024-02-02T08:53:05.443500Z",
     "iopub.status.busy": "2024-02-02T08:53:05.443101Z",
     "iopub.status.idle": "2024-02-02T08:53:05.449759Z",
     "shell.execute_reply": "2024-02-02T08:53:05.448807Z"
    },
    "papermill": {
     "duration": 0.065235,
     "end_time": "2024-02-02T08:53:05.452702",
     "exception": false,
     "start_time": "2024-02-02T08:53:05.387467",
     "status": "completed"
    },
    "tags": []
   },
   "outputs": [
    {
     "data": {
      "text/plain": [
       "array([ 0.84627799,  0.498705  ,  0.73057562, -0.74174247, -0.17278597,\n",
       "       -0.11152961, -0.28748623, -0.29307707, -0.33271946,  2.42205506,\n",
       "       -0.16278364, -0.25368284, -0.34837082, -0.22599493, -0.14341957,\n",
       "       -0.08420348, -0.40666899, -0.23365166, -0.13728326,  1.43137051,\n",
       "       -0.80816238,  0.72948537, -0.35358084, -0.35234428])"
      ]
     },
     "execution_count": 55,
     "metadata": {},
     "output_type": "execute_result"
    }
   ],
   "source": [
    "x_train_norm[0]"
   ]
  },
  {
   "cell_type": "code",
   "execution_count": 56,
   "id": "099b1780",
   "metadata": {
    "execution": {
     "iopub.execute_input": "2024-02-02T08:53:05.552074Z",
     "iopub.status.busy": "2024-02-02T08:53:05.551624Z",
     "iopub.status.idle": "2024-02-02T08:53:05.559507Z",
     "shell.execute_reply": "2024-02-02T08:53:05.558139Z"
    },
    "papermill": {
     "duration": 0.058814,
     "end_time": "2024-02-02T08:53:05.561513",
     "exception": false,
     "start_time": "2024-02-02T08:53:05.502699",
     "status": "completed"
    },
    "tags": []
   },
   "outputs": [
    {
     "data": {
      "text/plain": [
       "3418.883"
      ]
     },
     "execution_count": 56,
     "metadata": {},
     "output_type": "execute_result"
    }
   ],
   "source": [
    "y_train.iloc[2221]"
   ]
  },
  {
   "cell_type": "code",
   "execution_count": 57,
   "id": "70449ab9",
   "metadata": {
    "execution": {
     "iopub.execute_input": "2024-02-02T08:53:05.669350Z",
     "iopub.status.busy": "2024-02-02T08:53:05.667920Z",
     "iopub.status.idle": "2024-02-02T08:53:05.675862Z",
     "shell.execute_reply": "2024-02-02T08:53:05.675203Z"
    },
    "papermill": {
     "duration": 0.058361,
     "end_time": "2024-02-02T08:53:05.678243",
     "exception": false,
     "start_time": "2024-02-02T08:53:05.619882",
     "status": "completed"
    },
    "tags": []
   },
   "outputs": [],
   "source": [
    "df_input=pd.DataFrame({\"Item_Visibility\":[0.109991],\n",
    "                       \"Item_MRP\":[172.908],\n",
    "                       \"Outlet_Establishment_Year\":[2004],\n",
    "                       \"Item_Fat_Content_Regular\":[0]\t,\n",
    "                       \"Item_Type_Breads\":[0],\n",
    "                       \"Item_Type_Breakfast\":[0],\n",
    "                       \"Item_Type_Canned\":[0],\n",
    "                       \"Item_Type_Dairy\":[0],\n",
    "                       \"Item_Type_Frozen Foods\":[0],\n",
    "                       \"Item_Type_Fruits and Vegetables\":[1],\n",
    "                       \"Item_Type_Hard Drinks\":[0],\n",
    "                       \"Item_Type_Health and Hygiene\":[0],\n",
    "                       \"Item_Type_Household\":[0],\n",
    "                       \"Item_Type_Meat\":[0],\n",
    "                       \"Item_Type_Others\":[0],\n",
    "                       \"Item_Type_Seafood\":[0],\n",
    "                       \"Item_Type_Snack Foods\":[0],\n",
    "                       \"Item_Type_Soft Drinks\":[0],\n",
    "                       \"Item_Type_Starchy Foods\":[0],\n",
    "                       \"Outlet_Location_Type_Tier 2\":[1],\n",
    "                       \"Outlet_Location_Type_Tier 3\":[0],\n",
    "                       \"Outlet_Type_Supermarket Type1\":[1],\n",
    "                       \"Outlet_Type_Supermarket Type2\":[0],\n",
    "                       \"Outlet_Type_Supermarket Type3\":[0]})"
   ]
  },
  {
   "cell_type": "code",
   "execution_count": 58,
   "id": "c55cae00",
   "metadata": {
    "execution": {
     "iopub.execute_input": "2024-02-02T08:53:05.784562Z",
     "iopub.status.busy": "2024-02-02T08:53:05.784224Z",
     "iopub.status.idle": "2024-02-02T08:53:05.793190Z",
     "shell.execute_reply": "2024-02-02T08:53:05.792190Z"
    },
    "papermill": {
     "duration": 0.062888,
     "end_time": "2024-02-02T08:53:05.795395",
     "exception": false,
     "start_time": "2024-02-02T08:53:05.732507",
     "status": "completed"
    },
    "tags": []
   },
   "outputs": [
    {
     "data": {
      "text/plain": [
       "array([2829.21708281])"
      ]
     },
     "execution_count": 58,
     "metadata": {},
     "output_type": "execute_result"
    }
   ],
   "source": [
    "model_lasso_reg.predict(scaler.transform(df_input))"
   ]
  }
 ],
 "metadata": {
  "kaggle": {
   "accelerator": "none",
   "dataSources": [
    {
     "datasetId": 4353319,
     "sourceId": 7478888,
     "sourceType": "datasetVersion"
    }
   ],
   "dockerImageVersionId": 30635,
   "isGpuEnabled": false,
   "isInternetEnabled": true,
   "language": "python",
   "sourceType": "notebook"
  },
  "kernelspec": {
   "display_name": "Python 3",
   "language": "python",
   "name": "python3"
  },
  "language_info": {
   "codemirror_mode": {
    "name": "ipython",
    "version": 3
   },
   "file_extension": ".py",
   "mimetype": "text/x-python",
   "name": "python",
   "nbconvert_exporter": "python",
   "pygments_lexer": "ipython3",
   "version": "3.11.5"
  },
  "papermill": {
   "default_parameters": {},
   "duration": 50.137622,
   "end_time": "2024-02-02T08:53:08.471529",
   "environment_variables": {},
   "exception": null,
   "input_path": "__notebook__.ipynb",
   "output_path": "__notebook__.ipynb",
   "parameters": {},
   "start_time": "2024-02-02T08:52:18.333907",
   "version": "2.4.0"
  },
  "widgets": {
   "application/vnd.jupyter.widget-state+json": {
    "state": {
     "00bc4da7ef054cc3b3bd2021843f84b1": {
      "model_module": "@jupyter-widgets/controls",
      "model_module_version": "1.5.0",
      "model_name": "DescriptionStyleModel",
      "state": {
       "_model_module": "@jupyter-widgets/controls",
       "_model_module_version": "1.5.0",
       "_model_name": "DescriptionStyleModel",
       "_view_count": null,
       "_view_module": "@jupyter-widgets/base",
       "_view_module_version": "1.2.0",
       "_view_name": "StyleView",
       "description_width": ""
      }
     },
     "0459d2ab953c49319aadc1155110f922": {
      "model_module": "@jupyter-widgets/controls",
      "model_module_version": "1.5.0",
      "model_name": "HTMLModel",
      "state": {
       "_dom_classes": [],
       "_model_module": "@jupyter-widgets/controls",
       "_model_module_version": "1.5.0",
       "_model_name": "HTMLModel",
       "_view_count": null,
       "_view_module": "@jupyter-widgets/controls",
       "_view_module_version": "1.5.0",
       "_view_name": "HTMLView",
       "description": "",
       "description_tooltip": null,
       "layout": "IPY_MODEL_5305de58ac824418a46191467f71a43a",
       "placeholder": "​",
       "style": "IPY_MODEL_bb60c49c652a4d6a8a8a57aa6eb97295",
       "value": "Render HTML: 100%"
      }
     },
     "04669c4e89e84cc79befb3616fc7e9ef": {
      "model_module": "@jupyter-widgets/controls",
      "model_module_version": "1.5.0",
      "model_name": "DescriptionStyleModel",
      "state": {
       "_model_module": "@jupyter-widgets/controls",
       "_model_module_version": "1.5.0",
       "_model_name": "DescriptionStyleModel",
       "_view_count": null,
       "_view_module": "@jupyter-widgets/base",
       "_view_module_version": "1.2.0",
       "_view_name": "StyleView",
       "description_width": ""
      }
     },
     "126965b526b449418845b03e619c7b76": {
      "model_module": "@jupyter-widgets/base",
      "model_module_version": "1.2.0",
      "model_name": "LayoutModel",
      "state": {
       "_model_module": "@jupyter-widgets/base",
       "_model_module_version": "1.2.0",
       "_model_name": "LayoutModel",
       "_view_count": null,
       "_view_module": "@jupyter-widgets/base",
       "_view_module_version": "1.2.0",
       "_view_name": "LayoutView",
       "align_content": null,
       "align_items": null,
       "align_self": null,
       "border": null,
       "bottom": null,
       "display": null,
       "flex": null,
       "flex_flow": null,
       "grid_area": null,
       "grid_auto_columns": null,
       "grid_auto_flow": null,
       "grid_auto_rows": null,
       "grid_column": null,
       "grid_gap": null,
       "grid_row": null,
       "grid_template_areas": null,
       "grid_template_columns": null,
       "grid_template_rows": null,
       "height": null,
       "justify_content": null,
       "justify_items": null,
       "left": null,
       "margin": null,
       "max_height": null,
       "max_width": null,
       "min_height": null,
       "min_width": null,
       "object_fit": null,
       "object_position": null,
       "order": null,
       "overflow": null,
       "overflow_x": null,
       "overflow_y": null,
       "padding": null,
       "right": null,
       "top": null,
       "visibility": null,
       "width": null
      }
     },
     "16d92aea91354a7c80c15e5b5001014a": {
      "model_module": "@jupyter-widgets/controls",
      "model_module_version": "1.5.0",
      "model_name": "HTMLModel",
      "state": {
       "_dom_classes": [],
       "_model_module": "@jupyter-widgets/controls",
       "_model_module_version": "1.5.0",
       "_model_name": "HTMLModel",
       "_view_count": null,
       "_view_module": "@jupyter-widgets/controls",
       "_view_module_version": "1.5.0",
       "_view_name": "HTMLView",
       "description": "",
       "description_tooltip": null,
       "layout": "IPY_MODEL_c0aa21a945254c4e808d5bf1a30a42c5",
       "placeholder": "​",
       "style": "IPY_MODEL_04669c4e89e84cc79befb3616fc7e9ef",
       "value": " 1/1 [00:01&lt;00:00,  1.34s/it]"
      }
     },
     "296f70e72ebf47d0939c229a94c9d7f1": {
      "model_module": "@jupyter-widgets/base",
      "model_module_version": "1.2.0",
      "model_name": "LayoutModel",
      "state": {
       "_model_module": "@jupyter-widgets/base",
       "_model_module_version": "1.2.0",
       "_model_name": "LayoutModel",
       "_view_count": null,
       "_view_module": "@jupyter-widgets/base",
       "_view_module_version": "1.2.0",
       "_view_name": "LayoutView",
       "align_content": null,
       "align_items": null,
       "align_self": null,
       "border": null,
       "bottom": null,
       "display": null,
       "flex": null,
       "flex_flow": null,
       "grid_area": null,
       "grid_auto_columns": null,
       "grid_auto_flow": null,
       "grid_auto_rows": null,
       "grid_column": null,
       "grid_gap": null,
       "grid_row": null,
       "grid_template_areas": null,
       "grid_template_columns": null,
       "grid_template_rows": null,
       "height": null,
       "justify_content": null,
       "justify_items": null,
       "left": null,
       "margin": null,
       "max_height": null,
       "max_width": null,
       "min_height": null,
       "min_width": null,
       "object_fit": null,
       "object_position": null,
       "order": null,
       "overflow": null,
       "overflow_x": null,
       "overflow_y": null,
       "padding": null,
       "right": null,
       "top": null,
       "visibility": null,
       "width": null
      }
     },
     "3b7430e098094a8db68577e65f360ccb": {
      "model_module": "@jupyter-widgets/controls",
      "model_module_version": "1.5.0",
      "model_name": "HTMLModel",
      "state": {
       "_dom_classes": [],
       "_model_module": "@jupyter-widgets/controls",
       "_model_module_version": "1.5.0",
       "_model_name": "HTMLModel",
       "_view_count": null,
       "_view_module": "@jupyter-widgets/controls",
       "_view_module_version": "1.5.0",
       "_view_name": "HTMLView",
       "description": "",
       "description_tooltip": null,
       "layout": "IPY_MODEL_b7de24e1c240403194aa81dd9b0890f1",
       "placeholder": "​",
       "style": "IPY_MODEL_76a11eb0be774b5dae8cfc747fb5fcc5",
       "value": " 1/1 [00:05&lt;00:00,  5.58s/it]"
      }
     },
     "412799b1797c493c8791ad37fb58fb9b": {
      "model_module": "@jupyter-widgets/controls",
      "model_module_version": "1.5.0",
      "model_name": "HBoxModel",
      "state": {
       "_dom_classes": [],
       "_model_module": "@jupyter-widgets/controls",
       "_model_module_version": "1.5.0",
       "_model_name": "HBoxModel",
       "_view_count": null,
       "_view_module": "@jupyter-widgets/controls",
       "_view_module_version": "1.5.0",
       "_view_name": "HBoxView",
       "box_style": "",
       "children": [
        "IPY_MODEL_83492e92d62042169d216dc284de1622",
        "IPY_MODEL_e4332678d4ca42cc8b298d362af0a975",
        "IPY_MODEL_3b7430e098094a8db68577e65f360ccb"
       ],
       "layout": "IPY_MODEL_126965b526b449418845b03e619c7b76"
      }
     },
     "482169b784cd4ec882a639bce016e0b8": {
      "model_module": "@jupyter-widgets/controls",
      "model_module_version": "1.5.0",
      "model_name": "HBoxModel",
      "state": {
       "_dom_classes": [],
       "_model_module": "@jupyter-widgets/controls",
       "_model_module_version": "1.5.0",
       "_model_name": "HBoxModel",
       "_view_count": null,
       "_view_module": "@jupyter-widgets/controls",
       "_view_module_version": "1.5.0",
       "_view_name": "HBoxView",
       "box_style": "",
       "children": [
        "IPY_MODEL_0459d2ab953c49319aadc1155110f922",
        "IPY_MODEL_6cb00b822c7a41558a9f2410e053ca9b",
        "IPY_MODEL_16d92aea91354a7c80c15e5b5001014a"
       ],
       "layout": "IPY_MODEL_296f70e72ebf47d0939c229a94c9d7f1"
      }
     },
     "49190fea104a4aff8e828e39559b9425": {
      "model_module": "@jupyter-widgets/controls",
      "model_module_version": "1.5.0",
      "model_name": "ProgressStyleModel",
      "state": {
       "_model_module": "@jupyter-widgets/controls",
       "_model_module_version": "1.5.0",
       "_model_name": "ProgressStyleModel",
       "_view_count": null,
       "_view_module": "@jupyter-widgets/base",
       "_view_module_version": "1.2.0",
       "_view_name": "StyleView",
       "bar_color": null,
       "description_width": ""
      }
     },
     "5305de58ac824418a46191467f71a43a": {
      "model_module": "@jupyter-widgets/base",
      "model_module_version": "1.2.0",
      "model_name": "LayoutModel",
      "state": {
       "_model_module": "@jupyter-widgets/base",
       "_model_module_version": "1.2.0",
       "_model_name": "LayoutModel",
       "_view_count": null,
       "_view_module": "@jupyter-widgets/base",
       "_view_module_version": "1.2.0",
       "_view_name": "LayoutView",
       "align_content": null,
       "align_items": null,
       "align_self": null,
       "border": null,
       "bottom": null,
       "display": null,
       "flex": null,
       "flex_flow": null,
       "grid_area": null,
       "grid_auto_columns": null,
       "grid_auto_flow": null,
       "grid_auto_rows": null,
       "grid_column": null,
       "grid_gap": null,
       "grid_row": null,
       "grid_template_areas": null,
       "grid_template_columns": null,
       "grid_template_rows": null,
       "height": null,
       "justify_content": null,
       "justify_items": null,
       "left": null,
       "margin": null,
       "max_height": null,
       "max_width": null,
       "min_height": null,
       "min_width": null,
       "object_fit": null,
       "object_position": null,
       "order": null,
       "overflow": null,
       "overflow_x": null,
       "overflow_y": null,
       "padding": null,
       "right": null,
       "top": null,
       "visibility": null,
       "width": null
      }
     },
     "557464fa2a6b41e59b384dd2deb7c5b8": {
      "model_module": "@jupyter-widgets/controls",
      "model_module_version": "1.5.0",
      "model_name": "FloatProgressModel",
      "state": {
       "_dom_classes": [],
       "_model_module": "@jupyter-widgets/controls",
       "_model_module_version": "1.5.0",
       "_model_name": "FloatProgressModel",
       "_view_count": null,
       "_view_module": "@jupyter-widgets/controls",
       "_view_module_version": "1.5.0",
       "_view_name": "ProgressView",
       "bar_style": "success",
       "description": "",
       "description_tooltip": null,
       "layout": "IPY_MODEL_a66f21ecec2b4b43a3f72673aa8492fc",
       "max": 5,
       "min": 0,
       "orientation": "horizontal",
       "style": "IPY_MODEL_da8c32ece5614961a3a2003d1ab78146",
       "value": 5
      }
     },
     "55d40d2447754e1c9654869b7f879ffc": {
      "model_module": "@jupyter-widgets/base",
      "model_module_version": "1.2.0",
      "model_name": "LayoutModel",
      "state": {
       "_model_module": "@jupyter-widgets/base",
       "_model_module_version": "1.2.0",
       "_model_name": "LayoutModel",
       "_view_count": null,
       "_view_module": "@jupyter-widgets/base",
       "_view_module_version": "1.2.0",
       "_view_name": "LayoutView",
       "align_content": null,
       "align_items": null,
       "align_self": null,
       "border": null,
       "bottom": null,
       "display": null,
       "flex": null,
       "flex_flow": null,
       "grid_area": null,
       "grid_auto_columns": null,
       "grid_auto_flow": null,
       "grid_auto_rows": null,
       "grid_column": null,
       "grid_gap": null,
       "grid_row": null,
       "grid_template_areas": null,
       "grid_template_columns": null,
       "grid_template_rows": null,
       "height": null,
       "justify_content": null,
       "justify_items": null,
       "left": null,
       "margin": null,
       "max_height": null,
       "max_width": null,
       "min_height": null,
       "min_width": null,
       "object_fit": null,
       "object_position": null,
       "order": null,
       "overflow": null,
       "overflow_x": null,
       "overflow_y": null,
       "padding": null,
       "right": null,
       "top": null,
       "visibility": null,
       "width": null
      }
     },
     "5c4d0e968da4451c8bf8ee576ad8c155": {
      "model_module": "@jupyter-widgets/controls",
      "model_module_version": "1.5.0",
      "model_name": "ProgressStyleModel",
      "state": {
       "_model_module": "@jupyter-widgets/controls",
       "_model_module_version": "1.5.0",
       "_model_name": "ProgressStyleModel",
       "_view_count": null,
       "_view_module": "@jupyter-widgets/base",
       "_view_module_version": "1.2.0",
       "_view_name": "StyleView",
       "bar_color": null,
       "description_width": ""
      }
     },
     "6803e77e58e74fae9798fb1e740aa6a5": {
      "model_module": "@jupyter-widgets/controls",
      "model_module_version": "1.5.0",
      "model_name": "HTMLModel",
      "state": {
       "_dom_classes": [],
       "_model_module": "@jupyter-widgets/controls",
       "_model_module_version": "1.5.0",
       "_model_name": "HTMLModel",
       "_view_count": null,
       "_view_module": "@jupyter-widgets/controls",
       "_view_module_version": "1.5.0",
       "_view_name": "HTMLView",
       "description": "",
       "description_tooltip": null,
       "layout": "IPY_MODEL_9bfded9244474b6b92222444d6a746e4",
       "placeholder": "​",
       "style": "IPY_MODEL_00bc4da7ef054cc3b3bd2021843f84b1",
       "value": "Summarize dataset: 100%"
      }
     },
     "6cb00b822c7a41558a9f2410e053ca9b": {
      "model_module": "@jupyter-widgets/controls",
      "model_module_version": "1.5.0",
      "model_name": "FloatProgressModel",
      "state": {
       "_dom_classes": [],
       "_model_module": "@jupyter-widgets/controls",
       "_model_module_version": "1.5.0",
       "_model_name": "FloatProgressModel",
       "_view_count": null,
       "_view_module": "@jupyter-widgets/controls",
       "_view_module_version": "1.5.0",
       "_view_name": "ProgressView",
       "bar_style": "success",
       "description": "",
       "description_tooltip": null,
       "layout": "IPY_MODEL_de4b4b71728348c88ab5a854616faa7d",
       "max": 1,
       "min": 0,
       "orientation": "horizontal",
       "style": "IPY_MODEL_49190fea104a4aff8e828e39559b9425",
       "value": 1
      }
     },
     "76a11eb0be774b5dae8cfc747fb5fcc5": {
      "model_module": "@jupyter-widgets/controls",
      "model_module_version": "1.5.0",
      "model_name": "DescriptionStyleModel",
      "state": {
       "_model_module": "@jupyter-widgets/controls",
       "_model_module_version": "1.5.0",
       "_model_name": "DescriptionStyleModel",
       "_view_count": null,
       "_view_module": "@jupyter-widgets/base",
       "_view_module_version": "1.2.0",
       "_view_name": "StyleView",
       "description_width": ""
      }
     },
     "7edd28425e324485ad74bd5d139251ec": {
      "model_module": "@jupyter-widgets/controls",
      "model_module_version": "1.5.0",
      "model_name": "HTMLModel",
      "state": {
       "_dom_classes": [],
       "_model_module": "@jupyter-widgets/controls",
       "_model_module_version": "1.5.0",
       "_model_name": "HTMLModel",
       "_view_count": null,
       "_view_module": "@jupyter-widgets/controls",
       "_view_module_version": "1.5.0",
       "_view_name": "HTMLView",
       "description": "",
       "description_tooltip": null,
       "layout": "IPY_MODEL_fca7eafd65024189a3b0c3ab30fca1d6",
       "placeholder": "​",
       "style": "IPY_MODEL_c0fafed4b02a4be7bfd99a9817057e79",
       "value": " 47/47 [00:10&lt;00:00,  5.30it/s, Completed]"
      }
     },
     "83492e92d62042169d216dc284de1622": {
      "model_module": "@jupyter-widgets/controls",
      "model_module_version": "1.5.0",
      "model_name": "HTMLModel",
      "state": {
       "_dom_classes": [],
       "_model_module": "@jupyter-widgets/controls",
       "_model_module_version": "1.5.0",
       "_model_name": "HTMLModel",
       "_view_count": null,
       "_view_module": "@jupyter-widgets/controls",
       "_view_module_version": "1.5.0",
       "_view_name": "HTMLView",
       "description": "",
       "description_tooltip": null,
       "layout": "IPY_MODEL_980186f56cdb4718b87098b19c3b9574",
       "placeholder": "​",
       "style": "IPY_MODEL_954f79e708c74ef68f5c7c42967cf25a",
       "value": "Generate report structure: 100%"
      }
     },
     "8b2a6323a95249d79fd732e4341c0077": {
      "model_module": "@jupyter-widgets/controls",
      "model_module_version": "1.5.0",
      "model_name": "HBoxModel",
      "state": {
       "_dom_classes": [],
       "_model_module": "@jupyter-widgets/controls",
       "_model_module_version": "1.5.0",
       "_model_name": "HBoxModel",
       "_view_count": null,
       "_view_module": "@jupyter-widgets/controls",
       "_view_module_version": "1.5.0",
       "_view_name": "HBoxView",
       "box_style": "",
       "children": [
        "IPY_MODEL_6803e77e58e74fae9798fb1e740aa6a5",
        "IPY_MODEL_557464fa2a6b41e59b384dd2deb7c5b8",
        "IPY_MODEL_7edd28425e324485ad74bd5d139251ec"
       ],
       "layout": "IPY_MODEL_55d40d2447754e1c9654869b7f879ffc"
      }
     },
     "954f79e708c74ef68f5c7c42967cf25a": {
      "model_module": "@jupyter-widgets/controls",
      "model_module_version": "1.5.0",
      "model_name": "DescriptionStyleModel",
      "state": {
       "_model_module": "@jupyter-widgets/controls",
       "_model_module_version": "1.5.0",
       "_model_name": "DescriptionStyleModel",
       "_view_count": null,
       "_view_module": "@jupyter-widgets/base",
       "_view_module_version": "1.2.0",
       "_view_name": "StyleView",
       "description_width": ""
      }
     },
     "980186f56cdb4718b87098b19c3b9574": {
      "model_module": "@jupyter-widgets/base",
      "model_module_version": "1.2.0",
      "model_name": "LayoutModel",
      "state": {
       "_model_module": "@jupyter-widgets/base",
       "_model_module_version": "1.2.0",
       "_model_name": "LayoutModel",
       "_view_count": null,
       "_view_module": "@jupyter-widgets/base",
       "_view_module_version": "1.2.0",
       "_view_name": "LayoutView",
       "align_content": null,
       "align_items": null,
       "align_self": null,
       "border": null,
       "bottom": null,
       "display": null,
       "flex": null,
       "flex_flow": null,
       "grid_area": null,
       "grid_auto_columns": null,
       "grid_auto_flow": null,
       "grid_auto_rows": null,
       "grid_column": null,
       "grid_gap": null,
       "grid_row": null,
       "grid_template_areas": null,
       "grid_template_columns": null,
       "grid_template_rows": null,
       "height": null,
       "justify_content": null,
       "justify_items": null,
       "left": null,
       "margin": null,
       "max_height": null,
       "max_width": null,
       "min_height": null,
       "min_width": null,
       "object_fit": null,
       "object_position": null,
       "order": null,
       "overflow": null,
       "overflow_x": null,
       "overflow_y": null,
       "padding": null,
       "right": null,
       "top": null,
       "visibility": null,
       "width": null
      }
     },
     "9bfded9244474b6b92222444d6a746e4": {
      "model_module": "@jupyter-widgets/base",
      "model_module_version": "1.2.0",
      "model_name": "LayoutModel",
      "state": {
       "_model_module": "@jupyter-widgets/base",
       "_model_module_version": "1.2.0",
       "_model_name": "LayoutModel",
       "_view_count": null,
       "_view_module": "@jupyter-widgets/base",
       "_view_module_version": "1.2.0",
       "_view_name": "LayoutView",
       "align_content": null,
       "align_items": null,
       "align_self": null,
       "border": null,
       "bottom": null,
       "display": null,
       "flex": null,
       "flex_flow": null,
       "grid_area": null,
       "grid_auto_columns": null,
       "grid_auto_flow": null,
       "grid_auto_rows": null,
       "grid_column": null,
       "grid_gap": null,
       "grid_row": null,
       "grid_template_areas": null,
       "grid_template_columns": null,
       "grid_template_rows": null,
       "height": null,
       "justify_content": null,
       "justify_items": null,
       "left": null,
       "margin": null,
       "max_height": null,
       "max_width": null,
       "min_height": null,
       "min_width": null,
       "object_fit": null,
       "object_position": null,
       "order": null,
       "overflow": null,
       "overflow_x": null,
       "overflow_y": null,
       "padding": null,
       "right": null,
       "top": null,
       "visibility": null,
       "width": null
      }
     },
     "a66f21ecec2b4b43a3f72673aa8492fc": {
      "model_module": "@jupyter-widgets/base",
      "model_module_version": "1.2.0",
      "model_name": "LayoutModel",
      "state": {
       "_model_module": "@jupyter-widgets/base",
       "_model_module_version": "1.2.0",
       "_model_name": "LayoutModel",
       "_view_count": null,
       "_view_module": "@jupyter-widgets/base",
       "_view_module_version": "1.2.0",
       "_view_name": "LayoutView",
       "align_content": null,
       "align_items": null,
       "align_self": null,
       "border": null,
       "bottom": null,
       "display": null,
       "flex": null,
       "flex_flow": null,
       "grid_area": null,
       "grid_auto_columns": null,
       "grid_auto_flow": null,
       "grid_auto_rows": null,
       "grid_column": null,
       "grid_gap": null,
       "grid_row": null,
       "grid_template_areas": null,
       "grid_template_columns": null,
       "grid_template_rows": null,
       "height": null,
       "justify_content": null,
       "justify_items": null,
       "left": null,
       "margin": null,
       "max_height": null,
       "max_width": null,
       "min_height": null,
       "min_width": null,
       "object_fit": null,
       "object_position": null,
       "order": null,
       "overflow": null,
       "overflow_x": null,
       "overflow_y": null,
       "padding": null,
       "right": null,
       "top": null,
       "visibility": null,
       "width": null
      }
     },
     "b7de24e1c240403194aa81dd9b0890f1": {
      "model_module": "@jupyter-widgets/base",
      "model_module_version": "1.2.0",
      "model_name": "LayoutModel",
      "state": {
       "_model_module": "@jupyter-widgets/base",
       "_model_module_version": "1.2.0",
       "_model_name": "LayoutModel",
       "_view_count": null,
       "_view_module": "@jupyter-widgets/base",
       "_view_module_version": "1.2.0",
       "_view_name": "LayoutView",
       "align_content": null,
       "align_items": null,
       "align_self": null,
       "border": null,
       "bottom": null,
       "display": null,
       "flex": null,
       "flex_flow": null,
       "grid_area": null,
       "grid_auto_columns": null,
       "grid_auto_flow": null,
       "grid_auto_rows": null,
       "grid_column": null,
       "grid_gap": null,
       "grid_row": null,
       "grid_template_areas": null,
       "grid_template_columns": null,
       "grid_template_rows": null,
       "height": null,
       "justify_content": null,
       "justify_items": null,
       "left": null,
       "margin": null,
       "max_height": null,
       "max_width": null,
       "min_height": null,
       "min_width": null,
       "object_fit": null,
       "object_position": null,
       "order": null,
       "overflow": null,
       "overflow_x": null,
       "overflow_y": null,
       "padding": null,
       "right": null,
       "top": null,
       "visibility": null,
       "width": null
      }
     },
     "bb60c49c652a4d6a8a8a57aa6eb97295": {
      "model_module": "@jupyter-widgets/controls",
      "model_module_version": "1.5.0",
      "model_name": "DescriptionStyleModel",
      "state": {
       "_model_module": "@jupyter-widgets/controls",
       "_model_module_version": "1.5.0",
       "_model_name": "DescriptionStyleModel",
       "_view_count": null,
       "_view_module": "@jupyter-widgets/base",
       "_view_module_version": "1.2.0",
       "_view_name": "StyleView",
       "description_width": ""
      }
     },
     "c0aa21a945254c4e808d5bf1a30a42c5": {
      "model_module": "@jupyter-widgets/base",
      "model_module_version": "1.2.0",
      "model_name": "LayoutModel",
      "state": {
       "_model_module": "@jupyter-widgets/base",
       "_model_module_version": "1.2.0",
       "_model_name": "LayoutModel",
       "_view_count": null,
       "_view_module": "@jupyter-widgets/base",
       "_view_module_version": "1.2.0",
       "_view_name": "LayoutView",
       "align_content": null,
       "align_items": null,
       "align_self": null,
       "border": null,
       "bottom": null,
       "display": null,
       "flex": null,
       "flex_flow": null,
       "grid_area": null,
       "grid_auto_columns": null,
       "grid_auto_flow": null,
       "grid_auto_rows": null,
       "grid_column": null,
       "grid_gap": null,
       "grid_row": null,
       "grid_template_areas": null,
       "grid_template_columns": null,
       "grid_template_rows": null,
       "height": null,
       "justify_content": null,
       "justify_items": null,
       "left": null,
       "margin": null,
       "max_height": null,
       "max_width": null,
       "min_height": null,
       "min_width": null,
       "object_fit": null,
       "object_position": null,
       "order": null,
       "overflow": null,
       "overflow_x": null,
       "overflow_y": null,
       "padding": null,
       "right": null,
       "top": null,
       "visibility": null,
       "width": null
      }
     },
     "c0fafed4b02a4be7bfd99a9817057e79": {
      "model_module": "@jupyter-widgets/controls",
      "model_module_version": "1.5.0",
      "model_name": "DescriptionStyleModel",
      "state": {
       "_model_module": "@jupyter-widgets/controls",
       "_model_module_version": "1.5.0",
       "_model_name": "DescriptionStyleModel",
       "_view_count": null,
       "_view_module": "@jupyter-widgets/base",
       "_view_module_version": "1.2.0",
       "_view_name": "StyleView",
       "description_width": ""
      }
     },
     "c7e689b51b934352a80913d10ca49c9f": {
      "model_module": "@jupyter-widgets/base",
      "model_module_version": "1.2.0",
      "model_name": "LayoutModel",
      "state": {
       "_model_module": "@jupyter-widgets/base",
       "_model_module_version": "1.2.0",
       "_model_name": "LayoutModel",
       "_view_count": null,
       "_view_module": "@jupyter-widgets/base",
       "_view_module_version": "1.2.0",
       "_view_name": "LayoutView",
       "align_content": null,
       "align_items": null,
       "align_self": null,
       "border": null,
       "bottom": null,
       "display": null,
       "flex": null,
       "flex_flow": null,
       "grid_area": null,
       "grid_auto_columns": null,
       "grid_auto_flow": null,
       "grid_auto_rows": null,
       "grid_column": null,
       "grid_gap": null,
       "grid_row": null,
       "grid_template_areas": null,
       "grid_template_columns": null,
       "grid_template_rows": null,
       "height": null,
       "justify_content": null,
       "justify_items": null,
       "left": null,
       "margin": null,
       "max_height": null,
       "max_width": null,
       "min_height": null,
       "min_width": null,
       "object_fit": null,
       "object_position": null,
       "order": null,
       "overflow": null,
       "overflow_x": null,
       "overflow_y": null,
       "padding": null,
       "right": null,
       "top": null,
       "visibility": null,
       "width": null
      }
     },
     "da8c32ece5614961a3a2003d1ab78146": {
      "model_module": "@jupyter-widgets/controls",
      "model_module_version": "1.5.0",
      "model_name": "ProgressStyleModel",
      "state": {
       "_model_module": "@jupyter-widgets/controls",
       "_model_module_version": "1.5.0",
       "_model_name": "ProgressStyleModel",
       "_view_count": null,
       "_view_module": "@jupyter-widgets/base",
       "_view_module_version": "1.2.0",
       "_view_name": "StyleView",
       "bar_color": null,
       "description_width": ""
      }
     },
     "de4b4b71728348c88ab5a854616faa7d": {
      "model_module": "@jupyter-widgets/base",
      "model_module_version": "1.2.0",
      "model_name": "LayoutModel",
      "state": {
       "_model_module": "@jupyter-widgets/base",
       "_model_module_version": "1.2.0",
       "_model_name": "LayoutModel",
       "_view_count": null,
       "_view_module": "@jupyter-widgets/base",
       "_view_module_version": "1.2.0",
       "_view_name": "LayoutView",
       "align_content": null,
       "align_items": null,
       "align_self": null,
       "border": null,
       "bottom": null,
       "display": null,
       "flex": null,
       "flex_flow": null,
       "grid_area": null,
       "grid_auto_columns": null,
       "grid_auto_flow": null,
       "grid_auto_rows": null,
       "grid_column": null,
       "grid_gap": null,
       "grid_row": null,
       "grid_template_areas": null,
       "grid_template_columns": null,
       "grid_template_rows": null,
       "height": null,
       "justify_content": null,
       "justify_items": null,
       "left": null,
       "margin": null,
       "max_height": null,
       "max_width": null,
       "min_height": null,
       "min_width": null,
       "object_fit": null,
       "object_position": null,
       "order": null,
       "overflow": null,
       "overflow_x": null,
       "overflow_y": null,
       "padding": null,
       "right": null,
       "top": null,
       "visibility": null,
       "width": null
      }
     },
     "e4332678d4ca42cc8b298d362af0a975": {
      "model_module": "@jupyter-widgets/controls",
      "model_module_version": "1.5.0",
      "model_name": "FloatProgressModel",
      "state": {
       "_dom_classes": [],
       "_model_module": "@jupyter-widgets/controls",
       "_model_module_version": "1.5.0",
       "_model_name": "FloatProgressModel",
       "_view_count": null,
       "_view_module": "@jupyter-widgets/controls",
       "_view_module_version": "1.5.0",
       "_view_name": "ProgressView",
       "bar_style": "success",
       "description": "",
       "description_tooltip": null,
       "layout": "IPY_MODEL_c7e689b51b934352a80913d10ca49c9f",
       "max": 1,
       "min": 0,
       "orientation": "horizontal",
       "style": "IPY_MODEL_5c4d0e968da4451c8bf8ee576ad8c155",
       "value": 1
      }
     },
     "fca7eafd65024189a3b0c3ab30fca1d6": {
      "model_module": "@jupyter-widgets/base",
      "model_module_version": "1.2.0",
      "model_name": "LayoutModel",
      "state": {
       "_model_module": "@jupyter-widgets/base",
       "_model_module_version": "1.2.0",
       "_model_name": "LayoutModel",
       "_view_count": null,
       "_view_module": "@jupyter-widgets/base",
       "_view_module_version": "1.2.0",
       "_view_name": "LayoutView",
       "align_content": null,
       "align_items": null,
       "align_self": null,
       "border": null,
       "bottom": null,
       "display": null,
       "flex": null,
       "flex_flow": null,
       "grid_area": null,
       "grid_auto_columns": null,
       "grid_auto_flow": null,
       "grid_auto_rows": null,
       "grid_column": null,
       "grid_gap": null,
       "grid_row": null,
       "grid_template_areas": null,
       "grid_template_columns": null,
       "grid_template_rows": null,
       "height": null,
       "justify_content": null,
       "justify_items": null,
       "left": null,
       "margin": null,
       "max_height": null,
       "max_width": null,
       "min_height": null,
       "min_width": null,
       "object_fit": null,
       "object_position": null,
       "order": null,
       "overflow": null,
       "overflow_x": null,
       "overflow_y": null,
       "padding": null,
       "right": null,
       "top": null,
       "visibility": null,
       "width": null
      }
     }
    },
    "version_major": 2,
    "version_minor": 0
   }
  }
 },
 "nbformat": 4,
 "nbformat_minor": 5
}
